{
  "nbformat": 4,
  "nbformat_minor": 0,
  "metadata": {
    "colab": {
      "provenance": [],
      "authorship_tag": "ABX9TyOk7tbz2fcoN/OCrebd7iN0",
      "include_colab_link": true
    },
    "kernelspec": {
      "name": "python3",
      "display_name": "Python 3"
    },
    "language_info": {
      "name": "python"
    },
    "widgets": {
      "application/vnd.jupyter.widget-state+json": {
        "5977a4001bc6470abba69c045ed33d76": {
          "model_module": "@jupyter-widgets/controls",
          "model_name": "VBoxModel",
          "model_module_version": "1.5.0",
          "state": {
            "_dom_classes": [
              "widget-interact"
            ],
            "_model_module": "@jupyter-widgets/controls",
            "_model_module_version": "1.5.0",
            "_model_name": "VBoxModel",
            "_view_count": null,
            "_view_module": "@jupyter-widgets/controls",
            "_view_module_version": "1.5.0",
            "_view_name": "VBoxView",
            "box_style": "",
            "children": [
              "IPY_MODEL_fe63fb31f8e742c7b6ac00477cd1d644",
              "IPY_MODEL_38b6442687ca433da076166067fa0188",
              "IPY_MODEL_de40eab258c54fc18f0401fb1a123c51",
              "IPY_MODEL_bb7bd71f364e4392a304ef21c647d248",
              "IPY_MODEL_ab729e4b9f2848b2b35bb9afbdfc4663"
            ],
            "layout": "IPY_MODEL_059ea1d90dc94fd4a12a0be13635f51d"
          }
        },
        "fe63fb31f8e742c7b6ac00477cd1d644": {
          "model_module": "@jupyter-widgets/controls",
          "model_name": "FloatSliderModel",
          "model_module_version": "1.5.0",
          "state": {
            "_dom_classes": [],
            "_model_module": "@jupyter-widgets/controls",
            "_model_module_version": "1.5.0",
            "_model_name": "FloatSliderModel",
            "_view_count": null,
            "_view_module": "@jupyter-widgets/controls",
            "_view_module_version": "1.5.0",
            "_view_name": "FloatSliderView",
            "continuous_update": true,
            "description": "E_Ag",
            "description_tooltip": null,
            "disabled": false,
            "layout": "IPY_MODEL_f50423cb8d964cf8a591d98a838a7c5a",
            "max": 7000,
            "min": 600,
            "orientation": "horizontal",
            "readout": true,
            "readout_format": ".2f",
            "step": 0.1,
            "style": "IPY_MODEL_dedfb707de414ac3a16ea266d615f379",
            "value": 4865.4
          }
        },
        "38b6442687ca433da076166067fa0188": {
          "model_module": "@jupyter-widgets/controls",
          "model_name": "FloatSliderModel",
          "model_module_version": "1.5.0",
          "state": {
            "_dom_classes": [],
            "_model_module": "@jupyter-widgets/controls",
            "_model_module_version": "1.5.0",
            "_model_name": "FloatSliderModel",
            "_view_count": null,
            "_view_module": "@jupyter-widgets/controls",
            "_view_module_version": "1.5.0",
            "_view_name": "FloatSliderView",
            "continuous_update": true,
            "description": "E_Ab",
            "description_tooltip": null,
            "disabled": false,
            "layout": "IPY_MODEL_48216cb3021f4d1b9a749eb565533162",
            "max": 9000,
            "min": 700,
            "orientation": "horizontal",
            "readout": true,
            "readout_format": ".2f",
            "step": 0.1,
            "style": "IPY_MODEL_b93bf0e29c5c40fe9f027039f6c1c945",
            "value": 6874
          }
        },
        "de40eab258c54fc18f0401fb1a123c51": {
          "model_module": "@jupyter-widgets/controls",
          "model_name": "FloatSliderModel",
          "model_module_version": "1.5.0",
          "state": {
            "_dom_classes": [],
            "_model_module": "@jupyter-widgets/controls",
            "_model_module_version": "1.5.0",
            "_model_name": "FloatSliderModel",
            "_view_count": null,
            "_view_module": "@jupyter-widgets/controls",
            "_view_module_version": "1.5.0",
            "_view_name": "FloatSliderView",
            "continuous_update": true,
            "description": "kg",
            "description_tooltip": null,
            "disabled": false,
            "layout": "IPY_MODEL_4294ab93f26d46fdad58631f4886b55c",
            "max": 500000,
            "min": 300000,
            "orientation": "horizontal",
            "readout": true,
            "readout_format": ".2f",
            "step": 0.1,
            "style": "IPY_MODEL_b938e4e73cd5492e9be1c26c6169e3d2",
            "value": 377920
          }
        },
        "bb7bd71f364e4392a304ef21c647d248": {
          "model_module": "@jupyter-widgets/controls",
          "model_name": "FloatSliderModel",
          "model_module_version": "1.5.0",
          "state": {
            "_dom_classes": [],
            "_model_module": "@jupyter-widgets/controls",
            "_model_module_version": "1.5.0",
            "_model_name": "FloatSliderModel",
            "_view_count": null,
            "_view_module": "@jupyter-widgets/controls",
            "_view_module_version": "1.5.0",
            "_view_name": "FloatSliderView",
            "continuous_update": true,
            "description": "kb",
            "description_tooltip": null,
            "disabled": false,
            "layout": "IPY_MODEL_cdc5a6a975294e818a19d37f247f51fd",
            "max": 1,
            "min": 0,
            "orientation": "horizontal",
            "readout": true,
            "readout_format": ".2f",
            "step": 0.1,
            "style": "IPY_MODEL_a91a178bbf9b4e4289e702334687af41",
            "value": 0.9341
          }
        },
        "ab729e4b9f2848b2b35bb9afbdfc4663": {
          "model_module": "@jupyter-widgets/output",
          "model_name": "OutputModel",
          "model_module_version": "1.0.0",
          "state": {
            "_dom_classes": [],
            "_model_module": "@jupyter-widgets/output",
            "_model_module_version": "1.0.0",
            "_model_name": "OutputModel",
            "_view_count": null,
            "_view_module": "@jupyter-widgets/output",
            "_view_module_version": "1.0.0",
            "_view_name": "OutputView",
            "layout": "IPY_MODEL_add00376047f40ba8635842de3e86159",
            "msg_id": "",
            "outputs": [
              {
                "output_type": "display_data",
                "data": {
                  "text/plain": "<Figure size 1300x800 with 6 Axes>",
                  "image/png": "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\n"
                },
                "metadata": {}
              }
            ]
          }
        },
        "059ea1d90dc94fd4a12a0be13635f51d": {
          "model_module": "@jupyter-widgets/base",
          "model_name": "LayoutModel",
          "model_module_version": "1.2.0",
          "state": {
            "_model_module": "@jupyter-widgets/base",
            "_model_module_version": "1.2.0",
            "_model_name": "LayoutModel",
            "_view_count": null,
            "_view_module": "@jupyter-widgets/base",
            "_view_module_version": "1.2.0",
            "_view_name": "LayoutView",
            "align_content": null,
            "align_items": null,
            "align_self": null,
            "border": null,
            "bottom": null,
            "display": null,
            "flex": null,
            "flex_flow": null,
            "grid_area": null,
            "grid_auto_columns": null,
            "grid_auto_flow": null,
            "grid_auto_rows": null,
            "grid_column": null,
            "grid_gap": null,
            "grid_row": null,
            "grid_template_areas": null,
            "grid_template_columns": null,
            "grid_template_rows": null,
            "height": null,
            "justify_content": null,
            "justify_items": null,
            "left": null,
            "margin": null,
            "max_height": null,
            "max_width": null,
            "min_height": null,
            "min_width": null,
            "object_fit": null,
            "object_position": null,
            "order": null,
            "overflow": null,
            "overflow_x": null,
            "overflow_y": null,
            "padding": null,
            "right": null,
            "top": null,
            "visibility": null,
            "width": null
          }
        },
        "f50423cb8d964cf8a591d98a838a7c5a": {
          "model_module": "@jupyter-widgets/base",
          "model_name": "LayoutModel",
          "model_module_version": "1.2.0",
          "state": {
            "_model_module": "@jupyter-widgets/base",
            "_model_module_version": "1.2.0",
            "_model_name": "LayoutModel",
            "_view_count": null,
            "_view_module": "@jupyter-widgets/base",
            "_view_module_version": "1.2.0",
            "_view_name": "LayoutView",
            "align_content": null,
            "align_items": null,
            "align_self": null,
            "border": null,
            "bottom": null,
            "display": null,
            "flex": null,
            "flex_flow": null,
            "grid_area": null,
            "grid_auto_columns": null,
            "grid_auto_flow": null,
            "grid_auto_rows": null,
            "grid_column": null,
            "grid_gap": null,
            "grid_row": null,
            "grid_template_areas": null,
            "grid_template_columns": null,
            "grid_template_rows": null,
            "height": null,
            "justify_content": null,
            "justify_items": null,
            "left": null,
            "margin": null,
            "max_height": null,
            "max_width": null,
            "min_height": null,
            "min_width": null,
            "object_fit": null,
            "object_position": null,
            "order": null,
            "overflow": null,
            "overflow_x": null,
            "overflow_y": null,
            "padding": null,
            "right": null,
            "top": null,
            "visibility": null,
            "width": null
          }
        },
        "dedfb707de414ac3a16ea266d615f379": {
          "model_module": "@jupyter-widgets/controls",
          "model_name": "SliderStyleModel",
          "model_module_version": "1.5.0",
          "state": {
            "_model_module": "@jupyter-widgets/controls",
            "_model_module_version": "1.5.0",
            "_model_name": "SliderStyleModel",
            "_view_count": null,
            "_view_module": "@jupyter-widgets/base",
            "_view_module_version": "1.2.0",
            "_view_name": "StyleView",
            "description_width": "",
            "handle_color": null
          }
        },
        "48216cb3021f4d1b9a749eb565533162": {
          "model_module": "@jupyter-widgets/base",
          "model_name": "LayoutModel",
          "model_module_version": "1.2.0",
          "state": {
            "_model_module": "@jupyter-widgets/base",
            "_model_module_version": "1.2.0",
            "_model_name": "LayoutModel",
            "_view_count": null,
            "_view_module": "@jupyter-widgets/base",
            "_view_module_version": "1.2.0",
            "_view_name": "LayoutView",
            "align_content": null,
            "align_items": null,
            "align_self": null,
            "border": null,
            "bottom": null,
            "display": null,
            "flex": null,
            "flex_flow": null,
            "grid_area": null,
            "grid_auto_columns": null,
            "grid_auto_flow": null,
            "grid_auto_rows": null,
            "grid_column": null,
            "grid_gap": null,
            "grid_row": null,
            "grid_template_areas": null,
            "grid_template_columns": null,
            "grid_template_rows": null,
            "height": null,
            "justify_content": null,
            "justify_items": null,
            "left": null,
            "margin": null,
            "max_height": null,
            "max_width": null,
            "min_height": null,
            "min_width": null,
            "object_fit": null,
            "object_position": null,
            "order": null,
            "overflow": null,
            "overflow_x": null,
            "overflow_y": null,
            "padding": null,
            "right": null,
            "top": null,
            "visibility": null,
            "width": null
          }
        },
        "b93bf0e29c5c40fe9f027039f6c1c945": {
          "model_module": "@jupyter-widgets/controls",
          "model_name": "SliderStyleModel",
          "model_module_version": "1.5.0",
          "state": {
            "_model_module": "@jupyter-widgets/controls",
            "_model_module_version": "1.5.0",
            "_model_name": "SliderStyleModel",
            "_view_count": null,
            "_view_module": "@jupyter-widgets/base",
            "_view_module_version": "1.2.0",
            "_view_name": "StyleView",
            "description_width": "",
            "handle_color": null
          }
        },
        "4294ab93f26d46fdad58631f4886b55c": {
          "model_module": "@jupyter-widgets/base",
          "model_name": "LayoutModel",
          "model_module_version": "1.2.0",
          "state": {
            "_model_module": "@jupyter-widgets/base",
            "_model_module_version": "1.2.0",
            "_model_name": "LayoutModel",
            "_view_count": null,
            "_view_module": "@jupyter-widgets/base",
            "_view_module_version": "1.2.0",
            "_view_name": "LayoutView",
            "align_content": null,
            "align_items": null,
            "align_self": null,
            "border": null,
            "bottom": null,
            "display": null,
            "flex": null,
            "flex_flow": null,
            "grid_area": null,
            "grid_auto_columns": null,
            "grid_auto_flow": null,
            "grid_auto_rows": null,
            "grid_column": null,
            "grid_gap": null,
            "grid_row": null,
            "grid_template_areas": null,
            "grid_template_columns": null,
            "grid_template_rows": null,
            "height": null,
            "justify_content": null,
            "justify_items": null,
            "left": null,
            "margin": null,
            "max_height": null,
            "max_width": null,
            "min_height": null,
            "min_width": null,
            "object_fit": null,
            "object_position": null,
            "order": null,
            "overflow": null,
            "overflow_x": null,
            "overflow_y": null,
            "padding": null,
            "right": null,
            "top": null,
            "visibility": null,
            "width": null
          }
        },
        "b938e4e73cd5492e9be1c26c6169e3d2": {
          "model_module": "@jupyter-widgets/controls",
          "model_name": "SliderStyleModel",
          "model_module_version": "1.5.0",
          "state": {
            "_model_module": "@jupyter-widgets/controls",
            "_model_module_version": "1.5.0",
            "_model_name": "SliderStyleModel",
            "_view_count": null,
            "_view_module": "@jupyter-widgets/base",
            "_view_module_version": "1.2.0",
            "_view_name": "StyleView",
            "description_width": "",
            "handle_color": null
          }
        },
        "cdc5a6a975294e818a19d37f247f51fd": {
          "model_module": "@jupyter-widgets/base",
          "model_name": "LayoutModel",
          "model_module_version": "1.2.0",
          "state": {
            "_model_module": "@jupyter-widgets/base",
            "_model_module_version": "1.2.0",
            "_model_name": "LayoutModel",
            "_view_count": null,
            "_view_module": "@jupyter-widgets/base",
            "_view_module_version": "1.2.0",
            "_view_name": "LayoutView",
            "align_content": null,
            "align_items": null,
            "align_self": null,
            "border": null,
            "bottom": null,
            "display": null,
            "flex": null,
            "flex_flow": null,
            "grid_area": null,
            "grid_auto_columns": null,
            "grid_auto_flow": null,
            "grid_auto_rows": null,
            "grid_column": null,
            "grid_gap": null,
            "grid_row": null,
            "grid_template_areas": null,
            "grid_template_columns": null,
            "grid_template_rows": null,
            "height": null,
            "justify_content": null,
            "justify_items": null,
            "left": null,
            "margin": null,
            "max_height": null,
            "max_width": null,
            "min_height": null,
            "min_width": null,
            "object_fit": null,
            "object_position": null,
            "order": null,
            "overflow": null,
            "overflow_x": null,
            "overflow_y": null,
            "padding": null,
            "right": null,
            "top": null,
            "visibility": null,
            "width": null
          }
        },
        "a91a178bbf9b4e4289e702334687af41": {
          "model_module": "@jupyter-widgets/controls",
          "model_name": "SliderStyleModel",
          "model_module_version": "1.5.0",
          "state": {
            "_model_module": "@jupyter-widgets/controls",
            "_model_module_version": "1.5.0",
            "_model_name": "SliderStyleModel",
            "_view_count": null,
            "_view_module": "@jupyter-widgets/base",
            "_view_module_version": "1.2.0",
            "_view_name": "StyleView",
            "description_width": "",
            "handle_color": null
          }
        },
        "add00376047f40ba8635842de3e86159": {
          "model_module": "@jupyter-widgets/base",
          "model_name": "LayoutModel",
          "model_module_version": "1.2.0",
          "state": {
            "_model_module": "@jupyter-widgets/base",
            "_model_module_version": "1.2.0",
            "_model_name": "LayoutModel",
            "_view_count": null,
            "_view_module": "@jupyter-widgets/base",
            "_view_module_version": "1.2.0",
            "_view_name": "LayoutView",
            "align_content": null,
            "align_items": null,
            "align_self": null,
            "border": null,
            "bottom": null,
            "display": null,
            "flex": null,
            "flex_flow": null,
            "grid_area": null,
            "grid_auto_columns": null,
            "grid_auto_flow": null,
            "grid_auto_rows": null,
            "grid_column": null,
            "grid_gap": null,
            "grid_row": null,
            "grid_template_areas": null,
            "grid_template_columns": null,
            "grid_template_rows": null,
            "height": null,
            "justify_content": null,
            "justify_items": null,
            "left": null,
            "margin": null,
            "max_height": null,
            "max_width": null,
            "min_height": null,
            "min_width": null,
            "object_fit": null,
            "object_position": null,
            "order": null,
            "overflow": null,
            "overflow_x": null,
            "overflow_y": null,
            "padding": null,
            "right": null,
            "top": null,
            "visibility": null,
            "width": null
          }
        }
      }
    }
  },
  "cells": [
    {
      "cell_type": "markdown",
      "metadata": {
        "id": "view-in-github",
        "colab_type": "text"
      },
      "source": [
        "<a href=\"https://colab.research.google.com/github/GamaLab42/Material_EQE_441/blob/main/Equa%C3%A7%C3%B5es_de_Momento_e_Cin%C3%A9tica_de_Cristaliza%C3%A7%C3%A3o.ipynb\" target=\"_parent\"><img src=\"https://colab.research.google.com/assets/colab-badge.svg\" alt=\"Open In Colab\"/></a>"
      ]
    },
    {
      "cell_type": "markdown",
      "source": [
        "## Bibliotecas\n"
      ],
      "metadata": {
        "id": "iMvxDWEgO1o2"
      }
    },
    {
      "cell_type": "code",
      "source": [
        "# Bibliotecas usadas nas equações\n",
        "import numpy as np  # Permite o uso de uma ampla variedades de operações matemáticas\n",
        "import mpmath       # Para resolver o sistema de eq. diferenciais, nós utilizados a\n",
        "                    #  DASSL. Devido o algorítimo utilizado ter base na linguagem C++,\n",
        "                    #  ocorre um bug quando temos termos exponenciais não-inteiros.\n",
        "                    #  Exemplo: 2^0.5 roda, mas 2^0.584 não.\n",
        "                    #  Esse pacote permite contornar esse bug.\n",
        "\n",
        "# Biliotecas usadas para plotar as figuras\n",
        "import matplotlib.pyplot as plt                           # Permite a geração de figuras de forma similar ao MATLAB\n",
        "import matplotlib.ticker as mticker                       # Essa biblioteca auxilia na formatação das figuras\n",
        "\n",
        "from ipywidgets import interact, interactive              # Função utilizada para permitir que a figura seja interativa\n",
        "from IPython.display import clear_output, display, HTML   # Função auxiliar do método interativo da figura\n",
        "\n",
        "# Biliotecas usadas para cálcular o tempo de compilação\n",
        "import time\n"
      ],
      "metadata": {
        "id": "zacU17ybIjMC"
      },
      "execution_count": 17,
      "outputs": []
    },
    {
      "cell_type": "markdown",
      "source": [
        "Instalação do pacote para usar o \"Differential-Algebraic System Solver in C\" desenvolvido pelo prof. Argimiro R. Secchi (PEQ/COPPE/UFRJ) em Python usando o Cython (que permite escrever códigos em python declarando funções, tipos, classes e variáveis em C).\n",
        "\n",
        "Esse código foi inicialmente desenvolvido pelo PhD Caio Curitiba Marcellos. Hoje, a atualização do código é realizada pelo PhD Iuri Segtovich\n",
        "(https://github.com/iurisegtovich/dasslcy).\n"
      ],
      "metadata": {
        "id": "7tK3u0nsytnA"
      }
    },
    {
      "cell_type": "code",
      "execution_count": 18,
      "metadata": {
        "colab": {
          "base_uri": "https://localhost:8080/"
        },
        "id": "aOhXRs_WEv0Q",
        "outputId": "b7ed127f-8ca2-498d-dd4f-03bb23eba149"
      },
      "outputs": [
        {
          "output_type": "stream",
          "name": "stdout",
          "text": [
            "fatal: destination path 'dasslcy' already exists and is not an empty directory.\n"
          ]
        }
      ],
      "source": [
        "!git clone https://github.com/iurisegtovich/dasslcy.git"
      ]
    },
    {
      "cell_type": "code",
      "source": [
        "%%bash\n",
        "cd dasslcy\n",
        "pip install ."
      ],
      "metadata": {
        "colab": {
          "base_uri": "https://localhost:8080/"
        },
        "id": "RrB0PZWpHxLD",
        "outputId": "a344463a-6100-4817-f8bc-3c0ad7897527"
      },
      "execution_count": 19,
      "outputs": [
        {
          "output_type": "stream",
          "name": "stdout",
          "text": [
            "Processing /content/dasslcy\n",
            "  Preparing metadata (setup.py): started\n",
            "  Preparing metadata (setup.py): finished with status 'done'\n",
            "Requirement already satisfied: numpy in /usr/local/lib/python3.10/dist-packages (from dasslcy==0.1) (1.26.4)\n",
            "Building wheels for collected packages: dasslcy\n",
            "  Building wheel for dasslcy (setup.py): started\n",
            "  Building wheel for dasslcy (setup.py): finished with status 'done'\n",
            "  Created wheel for dasslcy: filename=dasslcy-0.1-cp310-cp310-linux_x86_64.whl size=565798 sha256=6ca6d1a2ec860b22a6a72257f42f995863ea5af75b965f77929eec8bb9b3b885\n",
            "  Stored in directory: /tmp/pip-ephem-wheel-cache-cnxmhbv1/wheels/79/2f/53/98b2cb35d6ede3587e35e2ede2cb4bdc3f84cf97fdbd9c3bb2\n",
            "Successfully built dasslcy\n",
            "Installing collected packages: dasslcy\n",
            "  Attempting uninstall: dasslcy\n",
            "    Found existing installation: dasslcy 0.1\n",
            "    Uninstalling dasslcy-0.1:\n",
            "      Successfully uninstalled dasslcy-0.1\n",
            "Successfully installed dasslcy-0.1\n"
          ]
        }
      ]
    },
    {
      "cell_type": "code",
      "source": [
        "# Após a instalação, a biblioteca \"dasslcy\" precisa ser importada para ser corretamente utilizada\n",
        "#   OBS: No PC, a instalação realizada acima só precisa ser feita uma única vez. No colab, é\n",
        "#         necessário a instalação todas as vezes que é iniciado o ambiente de execução.\n",
        "\n",
        "import dasslcy\n"
      ],
      "metadata": {
        "id": "9eyK06wEvy7y"
      },
      "execution_count": 20,
      "outputs": []
    },
    {
      "cell_type": "markdown",
      "source": [
        "## Parâmetros utilizados no modelo"
      ],
      "metadata": {
        "id": "QZTqt9EwO6NV"
      }
    },
    {
      "cell_type": "markdown",
      "source": [
        "Os parâmetros apresentados aqui foram estimados para um estudo de caso da formação de cristais de $K_2SO_4$. Para mais informações, recomenda-se a leitura do artigo do prof. Marcellus de Moraes (2023):\n",
        "\n",
        "\"*Modeling and Predictive Control of Cooling Crystallization of Potassium Sulfate by Dynamic Image Analysis: Exploring Phenomenological and Machine Learning Approaches*\"\n",
        "\n",
        "DOI: https://doi.org/10.1021/acs.iecr.3c00739"
      ],
      "metadata": {
        "id": "SchANtuX1jzx"
      }
    },
    {
      "cell_type": "code",
      "source": [
        "## Iniciar as constantes utilizadas no modelo\n",
        "\n",
        "# @title Parâmetros do sistema: { display-mode: \"form\", run: \"auto\" }\n",
        "\n",
        "# @markdown Temperatura (K)\n",
        "T         = 273.15+39.38      # @param {type:\"number\"}    # Kelvin\n",
        "\n",
        "EQ        = 5                 # Número de Equações\n",
        "\n",
        "# @markdown Energia de ativação do crecimento ($E_{Ag}$, J/mol/R)\n",
        "E_Ag      = 4.8654E+3          # @param {type:\"number\"}    # Growth activation energy\n",
        "\n",
        "# @markdown Energia de ativação da nucleação ($E_{Ab}$, J/mol/R)\n",
        "E_Ab      = 6.8740E+3          # @param {type:\"number\"}    # Nucleation activation energy\n",
        "\n",
        "# @markdown Parâmetro adimensional do termo de nucleação [-]\n",
        "b         = 0.8361                 # @param {type:\"number\"}    # Nucleation supersaturation exponent\n",
        "\n",
        "# @markdown Parâmetro adimensional do termo de nucleação ($\\beta$, [-])\n",
        "\n",
        "beta      = 1.3728                 # @param {type:\"number\"}    # Nucleation rate\n",
        "\n",
        "# @markdown Parâmetro adimensional do termo de crescimento [-]\n",
        "g         = 1.6228                 # @param {type:\"number\"}    # Growth exponent parameter\n",
        "\n",
        "# @markdown Constante da taxa de crescimento [$k_g$, $(\\mu m/min)(L/g)^g$)\n",
        "\n",
        "kg        = 3.7792E+5                 # @param {type:\"number\"}    # Growth rate constant\n",
        "\n",
        "# @markdown Constante da nucleação ($k_b$, $\\left[\\left(min \\cdot cm^3\\right)^{-1}\\left(L\\text{ de solução}/g\\right)^b\\left(cm^3\\text{ da suspensão}/\\mu m^3\\right)^{\\beta}\\right]$)\n",
        "\n",
        "kb        = 0.9341                # @param {type:\"number\"}    # Nucleation constant\n",
        "\n",
        "# @markdown Fator de forma de volume ($k_V$, [-])\n",
        "\n",
        "kv        = 1.3486                 # @param {type:\"number\"}    # Volume shape factor\n",
        "\n",
        "# @markdown Constante de crescimento dependente do tamanho ($\\gamma$, $1/\\mu m $)\n",
        "\n",
        "gamma     = 2.3895E-3                 # @param {type:\"number\"}    # Size-dependent growth constant\n",
        "\n",
        "# @markdown Densidade do cristal ($\\rho_c$, $g/\\mu m^3$) - Estudo de caso $K_2SO_4$\n",
        "\n",
        "ro        = 2.36E-12                 # @param {type:\"number\"}    # 2.36 g/cm^3 K2SO4\n"
      ],
      "metadata": {
        "id": "YblKR_I6VJR_"
      },
      "execution_count": 21,
      "outputs": []
    },
    {
      "cell_type": "markdown",
      "source": [
        "## Modelo de cinética de precipitação e cristalização"
      ],
      "metadata": {
        "id": "NABMZaL2F0gU"
      }
    },
    {
      "cell_type": "markdown",
      "source": [
        "As equações apresentadas aqui estão de acordo com Moraes et al (2023): https://doi.org/10.1021/acs.iecr.3c00739"
      ],
      "metadata": {
        "id": "DkS8sgnz2ljY"
      }
    },
    {
      "cell_type": "markdown",
      "source": [
        "O balanço de massa do soluto no cristalizador em batelada é expresso por:\n",
        "\n",
        "$\\dfrac{dC}{dt} = - \\dfrac{3 \\ \\rho_c k_V }{1 - \\vartheta} \\ G_0 \\ (\\mu_{2} + \\gamma \\ \\mu_{3})$\n",
        "\n",
        "em que $C$ é a concentração ($g$ de soluto/$L$ de solução), $\\rho_c$ é a densidade do cristal, $\\gamma$ é a constante de crescimento dependente do tamanho $\\left( 1/\\mu m \\right)$; $\\vartheta$ é a fração volumétrica da população total de cristais, definido por:\n",
        "\n",
        "$\\vartheta = k_V \\ \\mu_3 \\cdot 10^{-12}$ \\\n",
        "em que $k_V$ é o fator de forma. O termo $10^{-12}$ converte o terceiro momento ($\\mu_3$, $\\mu m^3 / cm^3$ de suspensão) para um fator adimensional."
      ],
      "metadata": {
        "id": "wXD5uk0Z20_j"
      }
    },
    {
      "cell_type": "code",
      "source": [
        "def func_C(ro, kv, G0, mu2, mu3, gamma):\n",
        "    tetha = kv*mu3*1.0e-12\n",
        "    return 3.*ro*kv*G0*(mu2 + gamma*mu3)/(1.-tetha)"
      ],
      "metadata": {
        "id": "8JxTwERh2w-p"
      },
      "execution_count": 22,
      "outputs": []
    },
    {
      "cell_type": "markdown",
      "source": [
        "$G_0$ [$\\mu m /min$] está relacionado com a taxa de crescimento dependente do tamanho, sendo $G_0$ um fator dependente da temperatura e da supersaturação:\n",
        "\n",
        "$G_0 = k_g \\exp\\left(\\dfrac{-E_{Ag}}{RT}\\right)\\Delta C^g $\n",
        "\n",
        "em que $k_g$ é a constante da taxa de crescimento [$(\\mu m/min)(L/g)^g$, com o expoente $g$ sendo um parâmetro adimensional relacionado com a taxa]; $-E_{Ag}$ é a energia de ativação do crecimento $\\left(J/mol\\right)$; $R$ e $T$ são a constante universal dos gases e a temperatura do sistema ($K$), respectivamente; A supersaturação absoluta é $\\Delta C = C - C_s$ ($g$/$L$ de solução), com $C_s$ representando a concentração de soluto no equilíbrio."
      ],
      "metadata": {
        "id": "zbbMVjXN3fdl"
      }
    },
    {
      "cell_type": "code",
      "source": [
        "def func_G0(E_Ag, T, C, g, kg):\n",
        "    dC = C/1000 - func_Cs(T)\n",
        "    return kg*np.exp(-E_Ag/T)*round(float(mpmath.re(mpmath.power(dC, g))), 10)"
      ],
      "metadata": {
        "id": "claaKWp-3KEB"
      },
      "execution_count": 23,
      "outputs": []
    },
    {
      "cell_type": "markdown",
      "source": [
        "Uma correlação dependente da temperatura para $C_s$ ($g$/$L$ de solução)\n",
        "foi obtida a partir de dados experimentais de solubilidade de $K_2SO_4$ em água (faixa entre 0 a 100 ºC):\n",
        "\n",
        "$C_s(T)[g/L] = -687.27 + 3.5795T - 2.9287 \\cdot 10^{-3}T^2$"
      ],
      "metadata": {
        "id": "_sxrli0-4bnn"
      }
    },
    {
      "cell_type": "code",
      "source": [
        "def func_Cs(T):\n",
        "    return (-687.27 + 3.5795*(T) - 2.9287E-3*(T)**2)"
      ],
      "metadata": {
        "id": "nOlVrnfg3q-6"
      },
      "execution_count": 24,
      "outputs": []
    },
    {
      "cell_type": "markdown",
      "source": [
        "A condição de contorno estabelece que a taxa de nucleação $[(min \\cdot cm^{3})^{-1}]$ é descrita por:\n",
        "\n",
        "$B = k_b \\exp\\left(\\dfrac{-E_{Ab}}{RT}\\right)\\Delta C^b \\mu_3^{\\beta} $\n",
        "\n",
        "em que $k_b$ é a constante da nucleação, em unidades de $\\left[\\left(min \\cdot cm^3\\right)^{-1}\\left(L\\text{ de solução}/g\\right)^b\\left(cm^3\\text{ da suspensão}/\\mu m^3\\right)^{\\beta}\\right]$; $E_{Ab}$ é a energia de ativação da nucleação $\\left(J/mol\\right)$; e $b$ e $\\beta$ são expoentes adimensionais."
      ],
      "metadata": {
        "id": "NOGh-vqa4z1T"
      }
    },
    {
      "cell_type": "code",
      "source": [
        "def func_B(E_Ab, T, C, b, mu3, kb):\n",
        "    dC = C/1000 - func_Cs(T)\n",
        "    return kb*np.exp(-E_Ab/T)*round(float(mpmath.re(mpmath.power(dC, b))), 10)*round(float(mpmath.re(mpmath.power(mu3, beta))), 10)"
      ],
      "metadata": {
        "id": "-GHTGdF64jm2"
      },
      "execution_count": 25,
      "outputs": []
    },
    {
      "cell_type": "markdown",
      "source": [
        "\n",
        "\n",
        "\n",
        "\n",
        "\n",
        "\n",
        "\n",
        "\n",
        "\n",
        "\n",
        "\n",
        "Para encontrar o valor de $B$ e resolver o balanço de massa, são necessários determinar os momentos $\\mu_0$, $\\mu_1$, $\\mu_2$ e $\\mu_3$. Esses parâmetros estão relacionados, respectivamente, ao número, comprimento, área superficial e volume total de cristais:\n",
        "\n",
        "$\\dfrac{d\\mu_{0}}{dt} = B$ \\\n",
        "$\\dfrac{d\\mu_{1}}{dt} = G_0 (\\mu_0 +  \\gamma \\ \\mu_1)$ \\\n",
        "$\\dfrac{d\\mu_{2}}{dt} = 2 \\ G_0 (\\mu_1 +  \\gamma \\ \\mu_2)$ \\\n",
        "$\\dfrac{d\\mu_{3}}{dt} = 3 \\ G_0 (\\mu_2 +  \\gamma \\ \\mu_3)$ \\\n",
        "\n"
      ],
      "metadata": {
        "id": "A9l6iCZ3F6dp"
      }
    },
    {
      "cell_type": "code",
      "source": [
        "def func_mu1(G0, mu0, mu1):\n",
        "    return G0*(mu0 + gamma*mu1)\n",
        "def func_mu2(G0, mu1, mu2):\n",
        "    return 2.*G0*(mu1 + gamma*mu2)\n",
        "def func_mu3(G0, mu2, mu3):\n",
        "    return 3.*G0*(mu2 + gamma*mu3)"
      ],
      "metadata": {
        "id": "y6HwDktM43RC"
      },
      "execution_count": 26,
      "outputs": []
    },
    {
      "cell_type": "markdown",
      "source": [
        "## Resolvendo o sistema de derivadas utilizando a DASSL"
      ],
      "metadata": {
        "id": "7p048a2I54Ub"
      }
    },
    {
      "cell_type": "code",
      "source": [
        "def model(t,y,yp,par):\n",
        "  E_Ag, E_Ab, kg, kb = par\n",
        "  res = np.zeros((EQ,))\n",
        "\n",
        "  mu0 = y[0]\n",
        "  mu1 = y[1]\n",
        "  mu2 = y[2]\n",
        "  mu3 = y[3]\n",
        "  C   = y[4]\n",
        "  mu0_PRIME   = yp[0]\n",
        "  mu1_PRIME   = yp[1]\n",
        "  mu2_PRIME   = yp[2]\n",
        "  mu3_PRIME   = yp[3]\n",
        "  C_PRIME     = yp[4]\n",
        "\n",
        "  Cs = (-687.27 + 3.5795*(T) - 2.9287E-3*(T)**2)\n",
        "  dC    = C*1000 - Cs\n",
        "\n",
        "  G0 = kg*np.exp(-E_Ag/T)*round(float(mpmath.re(mpmath.power(dC, g))), 10)\n",
        "  B  = kb*np.exp(-E_Ab/T)*round(float(mpmath.re(mpmath.power(dC, b))), 10)*round(float(mpmath.re(mpmath.power(mu3, beta))), 10)\n",
        "\n",
        "  tetha = kv*mu3*1.0e-12\n",
        "\n",
        "  res[0]  =  mu0_PRIME - B\n",
        "  res[1]  =  mu1_PRIME - G0*(mu0 + gamma*mu1)\n",
        "  res[2]  =  mu2_PRIME - 2.*G0*(mu1 + gamma*mu2)\n",
        "  res[3]  =  mu3_PRIME - 3.*G0*(mu2 + gamma*mu3)\n",
        "  res[4]  =  - C_PRIME - 3.*ro*kv*G0*(mu2 + gamma*mu3)/(1.-tetha)\n",
        "  ires = 0\n",
        "\n",
        "  return res, ires"
      ],
      "metadata": {
        "id": "bHZTd0T5KMR_"
      },
      "execution_count": 27,
      "outputs": []
    },
    {
      "cell_type": "code",
      "source": [
        "# @title Condições iniciais (Moraes et al 2023): { display-mode: \"form\", run: \"auto\" }\n",
        "\n",
        "# @markdown $\\mu_0$ ($1/cm^3$)\n",
        "mu0_0         = 1559.23        # @param {type:\"number\"}\n",
        "\n",
        "# @markdown $\\mu_1$ ($\\mu m/cm^3$)\n",
        "mu1_0         = 21_237.53      # @param {type:\"number\"}\n",
        "\n",
        "# @markdown $\\mu_2$ ($\\mu^2 m/cm^3$)\n",
        "mu2_0         = 1_847_000.97   # @param {type:\"number\"}\n",
        "\n",
        "# @markdown $\\mu_3$ ($\\mu^3 m/cm^3$)\n",
        "mu3_0         = 234_067_271.73 # @param {type:\"number\"}\n",
        "\n",
        "# @markdown $C_0$ ($g/cm^3$)\n",
        "C0            = 0.1605         # @param {type:\"number\"}"
      ],
      "metadata": {
        "id": "cJ-WFefg77YM"
      },
      "execution_count": 28,
      "outputs": []
    },
    {
      "cell_type": "code",
      "source": [
        "# @title Código para geração dos gráficos { display-mode: \"form\", run: \"auto\" }\n",
        "\n",
        "def plot_fig(t,y):\n",
        "  fig, axs = plt.subplots(2, 3, figsize=(13, 8))\n",
        "\n",
        "  # Plotando os dados no subplot [0, 0]\n",
        "  axs[0, 0].plot(t, y[:, 0])\n",
        "  axs[0, 0].set_ylim([0, 4E+5])\n",
        "  axs[0, 0].set_xlim([0, 70])\n",
        "  axs[0, 0].set_ylabel('$\\mu_0$ ($1/cm^3$)')\n",
        "  axs[0, 0].set_xlabel('Tempo (min)')\n",
        "  axs[0, 0].set_xticks(range(0, 71, 15))\n",
        "\n",
        "  # Forçar notação científica no y-axis do subplot [0, 0]\n",
        "  axs[0, 0].yaxis.set_major_formatter(mticker.ScalarFormatter(useMathText=True))\n",
        "  axs[0, 0].ticklabel_format(style='sci', axis='y', scilimits=(0, 0))\n",
        "\n",
        "  # Plotando os dados no subplot [0, 1]\n",
        "  axs[0, 1].plot(t, y[:, 1], 'tab:orange')\n",
        "  axs[0, 1].set_ylim([0, 4E+6])\n",
        "  axs[0, 1].set_xlim([0, 70])\n",
        "  axs[0, 1].set_ylabel('$\\mu_1$ ($\\mu m/cm^3$)')\n",
        "  axs[0, 1].set_xlabel('Tempo (min)')\n",
        "  axs[0, 1].set_xticks(range(0, 71, 15))\n",
        "\n",
        "  # Forçar notação científica no y-axis do subplot [0, 1]\n",
        "  axs[0, 1].yaxis.set_major_formatter(mticker.ScalarFormatter(useMathText=True))\n",
        "  axs[0, 1].ticklabel_format(style='sci', axis='y', scilimits=(0, 0))\n",
        "\n",
        "  # Plotando os dados no subplot [0, 2]\n",
        "  axs[0, 2].plot(t, y[:, 2], 'tab:green')\n",
        "  axs[0, 2].set_ylim([0, 1E+8])\n",
        "  axs[0, 2].set_xlim([0, 70])\n",
        "  axs[0, 2].set_ylabel('$\\mu_2$ ($\\mu m^2/cm^3$)')\n",
        "  axs[0, 2].set_xlabel('Tempo (min)')\n",
        "  axs[0, 2].set_xticks(range(0, 71, 15))\n",
        "\n",
        "  # Forçar notação científica no y-axis do subplot [0, 2]\n",
        "  axs[0, 2].yaxis.set_major_formatter(mticker.ScalarFormatter(useMathText=True))\n",
        "  axs[0, 2].ticklabel_format(style='sci', axis='y', scilimits=(0, 0))\n",
        "\n",
        "  # Plotando os dados no subplot [1, 0]\n",
        "  axs[1, 0].plot(t, y[:, 3], 'tab:red')\n",
        "  axs[1, 0].set_ylim([0, 6E+9])\n",
        "  axs[1, 0].set_xlim([0, 70])\n",
        "  axs[1, 0].set_ylabel('$\\mu_3$ ($\\mu m^3/cm^3$)')\n",
        "  axs[1, 0].set_xlabel('Tempo (min)')\n",
        "  axs[1, 0].set_xticks(range(0, 71, 15))\n",
        "\n",
        "  # Forçar notação científica no y-axis do subplot [1, 0]\n",
        "  axs[1, 0].yaxis.set_major_formatter(mticker.ScalarFormatter(useMathText=True))\n",
        "  axs[1, 0].ticklabel_format(style='sci', axis='y', scilimits=(0, 0))\n",
        "\n",
        "  # Adicionando a quinta figura no subplot [1, 1]\n",
        "  axs[1, 1].plot(t, y[:, 4], 'tab:purple')\n",
        "  axs[1, 1].set_ylim([0.14, 0.17])\n",
        "  axs[1, 1].set_xlim([0, 70])\n",
        "  axs[1, 1].set_ylabel('$C_0$ ($g/cm^3$)')\n",
        "  axs[1, 1].set_xlabel('Tempo (min)')\n",
        "  axs[1, 1].set_xticks(range(0, 70, 15))\n",
        "\n",
        "  # Forçar notação científica no y-axis do subplot [1, 1]\n",
        "  axs[1, 1].yaxis.set_major_formatter(mticker.ScalarFormatter(useMathText=True))\n",
        "  axs[1, 1].ticklabel_format(style='sci', axis='y', scilimits=(0, 0))\n",
        "\n",
        "  # Deixando o último subplot vazio\n",
        "  axs[1, 2].axis('off')  # Desliga o último eixo.\n",
        "                         #   Estamos trabalhando com um nº impar de figuras\n",
        "\n",
        "  plt.tight_layout()     # Evitar sobreposições das figuras\n",
        "\n",
        "  return plt.show()"
      ],
      "metadata": {
        "id": "wjJNKViJ1zWc"
      },
      "execution_count": 29,
      "outputs": []
    },
    {
      "cell_type": "code",
      "source": [
        "def solve_cristalization(E_Ag = 4.8654E+3 , E_Ab = 6.8740E+3, kg = 3.7792E+5, kb = 0.9341):\n",
        "    atol = 1e-8 # Tolerância absoluta\n",
        "    rtol = 1e-6 # Tolerância relativa\n",
        "\n",
        "    par = (\n",
        "        E_Ag, E_Ab, kg, kb\n",
        "    )\n",
        "\n",
        "    # Tempo total do processo de cinética\n",
        "    t0 = np.array([70], dtype=np.float64)\n",
        "\n",
        "    # Iniciando os vetores das condições iniciais\n",
        "    y0 = np.zeros(EQ, dtype=np.float64)\n",
        "    yp0 = np.zeros(EQ, dtype=np.float64)\n",
        "\n",
        "    # Repassando os valores iniciais estabelecidos\n",
        "    y0[0] = mu0_0\n",
        "    y0[1] = mu1_0\n",
        "    y0[2] = mu2_0\n",
        "    y0[3] = mu3_0\n",
        "    y0[4] = C0\n",
        "\n",
        "    # Resolvendo o sistema\n",
        "    t_, y, yp = dasslcy.solve(model,t0,y0,yp0,par,rtol,atol)\n",
        "    t=np.asarray(t_)\n",
        "\n",
        "    plot_fig(t,y)\n",
        "\n",
        "    return t, y"
      ],
      "metadata": {
        "id": "RHCeXZsA082_"
      },
      "execution_count": 30,
      "outputs": []
    },
    {
      "cell_type": "code",
      "source": [
        "print(f\"Perfil dos momentos e da concentração em batelada a temperatura constante {T} K.\")\n"
      ],
      "metadata": {
        "colab": {
          "base_uri": "https://localhost:8080/"
        },
        "id": "3oDYMcmFACvS",
        "outputId": "ddf982d5-f8d8-482f-92ad-3a160578b402"
      },
      "execution_count": 31,
      "outputs": [
        {
          "output_type": "stream",
          "name": "stdout",
          "text": [
            "Perfil dos momentos e da concentração em batelada a temperatura constante 312.53 K.\n"
          ]
        }
      ]
    },
    {
      "cell_type": "code",
      "source": [
        "w = interactive(solve_cristalization, E_Ag=(6.0E+2,7.0E+3), E_Ab=(7.0E+2,9.0E+3),\n",
        "                kg = (3.0E+5, 5.0E+5), kb=(0.0,1.0))\n",
        "display(w)"
      ],
      "metadata": {
        "colab": {
          "base_uri": "https://localhost:8080/",
          "height": 934,
          "referenced_widgets": [
            "5977a4001bc6470abba69c045ed33d76",
            "fe63fb31f8e742c7b6ac00477cd1d644",
            "38b6442687ca433da076166067fa0188",
            "de40eab258c54fc18f0401fb1a123c51",
            "bb7bd71f364e4392a304ef21c647d248",
            "ab729e4b9f2848b2b35bb9afbdfc4663",
            "059ea1d90dc94fd4a12a0be13635f51d",
            "f50423cb8d964cf8a591d98a838a7c5a",
            "dedfb707de414ac3a16ea266d615f379",
            "48216cb3021f4d1b9a749eb565533162",
            "b93bf0e29c5c40fe9f027039f6c1c945",
            "4294ab93f26d46fdad58631f4886b55c",
            "b938e4e73cd5492e9be1c26c6169e3d2",
            "cdc5a6a975294e818a19d37f247f51fd",
            "a91a178bbf9b4e4289e702334687af41",
            "add00376047f40ba8635842de3e86159"
          ]
        },
        "id": "q31NfM4P1JOV",
        "outputId": "256c1249-185a-4c2d-a1c2-ac26629204e4"
      },
      "execution_count": 32,
      "outputs": [
        {
          "output_type": "display_data",
          "data": {
            "text/plain": [
              "interactive(children=(FloatSlider(value=4865.4, description='E_Ag', max=7000.0, min=600.0), FloatSlider(value=…"
            ],
            "application/vnd.jupyter.widget-view+json": {
              "version_major": 2,
              "version_minor": 0,
              "model_id": "5977a4001bc6470abba69c045ed33d76"
            }
          },
          "metadata": {}
        }
      ]
    }
  ]
}