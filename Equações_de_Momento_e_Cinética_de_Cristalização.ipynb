{
  "nbformat": 4,
  "nbformat_minor": 0,
  "metadata": {
    "colab": {
      "provenance": [],
      "authorship_tag": "ABX9TyPBV80QhGef+72dumHysQ1g",
      "include_colab_link": true
    },
    "kernelspec": {
      "name": "python3",
      "display_name": "Python 3"
    },
    "language_info": {
      "name": "python"
    },
    "widgets": {
      "application/vnd.jupyter.widget-state+json": {
        "ec464432d52741e2b3fcb7483b49241f": {
          "model_module": "@jupyter-widgets/controls",
          "model_name": "VBoxModel",
          "model_module_version": "1.5.0",
          "state": {
            "_dom_classes": [
              "widget-interact"
            ],
            "_model_module": "@jupyter-widgets/controls",
            "_model_module_version": "1.5.0",
            "_model_name": "VBoxModel",
            "_view_count": null,
            "_view_module": "@jupyter-widgets/controls",
            "_view_module_version": "1.5.0",
            "_view_name": "VBoxView",
            "box_style": "",
            "children": [
              "IPY_MODEL_ac9577385c60491ab479ef66182efa02",
              "IPY_MODEL_593dbc8e74354ebeaefcecb2d0f79e77",
              "IPY_MODEL_fc56344f3358411aab3b9c4bae20ce09",
              "IPY_MODEL_3d54fb2197314d8cac709662ff2ee644",
              "IPY_MODEL_0786410eddb34bc29a8adbd848932dc2",
              "IPY_MODEL_c2ed6b7dc6fa4ae285664e355395f1bc"
            ],
            "layout": "IPY_MODEL_57e0376322e44c958163b9f6c9550b2e"
          }
        },
        "ac9577385c60491ab479ef66182efa02": {
          "model_module": "@jupyter-widgets/controls",
          "model_name": "FloatSliderModel",
          "model_module_version": "1.5.0",
          "state": {
            "_dom_classes": [],
            "_model_module": "@jupyter-widgets/controls",
            "_model_module_version": "1.5.0",
            "_model_name": "FloatSliderModel",
            "_view_count": null,
            "_view_module": "@jupyter-widgets/controls",
            "_view_module_version": "1.5.0",
            "_view_name": "FloatSliderView",
            "continuous_update": true,
            "description": "E_Ag",
            "description_tooltip": null,
            "disabled": false,
            "layout": "IPY_MODEL_842982e32a09418da6c1140615319492",
            "max": 7000,
            "min": 600,
            "orientation": "horizontal",
            "readout": true,
            "readout_format": ".2f",
            "step": 0.1,
            "style": "IPY_MODEL_774ab598282348dca89f6d808ddeb530",
            "value": 4865.4
          }
        },
        "593dbc8e74354ebeaefcecb2d0f79e77": {
          "model_module": "@jupyter-widgets/controls",
          "model_name": "FloatSliderModel",
          "model_module_version": "1.5.0",
          "state": {
            "_dom_classes": [],
            "_model_module": "@jupyter-widgets/controls",
            "_model_module_version": "1.5.0",
            "_model_name": "FloatSliderModel",
            "_view_count": null,
            "_view_module": "@jupyter-widgets/controls",
            "_view_module_version": "1.5.0",
            "_view_name": "FloatSliderView",
            "continuous_update": true,
            "description": "E_Ab",
            "description_tooltip": null,
            "disabled": false,
            "layout": "IPY_MODEL_4952e359601d4b54ab667806b9b79c49",
            "max": 9000,
            "min": 700,
            "orientation": "horizontal",
            "readout": true,
            "readout_format": ".2f",
            "step": 0.1,
            "style": "IPY_MODEL_f2c2287258314494a98a32d048169b8c",
            "value": 6874
          }
        },
        "fc56344f3358411aab3b9c4bae20ce09": {
          "model_module": "@jupyter-widgets/controls",
          "model_name": "FloatSliderModel",
          "model_module_version": "1.5.0",
          "state": {
            "_dom_classes": [],
            "_model_module": "@jupyter-widgets/controls",
            "_model_module_version": "1.5.0",
            "_model_name": "FloatSliderModel",
            "_view_count": null,
            "_view_module": "@jupyter-widgets/controls",
            "_view_module_version": "1.5.0",
            "_view_name": "FloatSliderView",
            "continuous_update": true,
            "description": "kg",
            "description_tooltip": null,
            "disabled": false,
            "layout": "IPY_MODEL_ebca7344fb5d446da8c558eff313aa78",
            "max": 500000,
            "min": 300000,
            "orientation": "horizontal",
            "readout": true,
            "readout_format": ".2f",
            "step": 0.1,
            "style": "IPY_MODEL_516eeb2f3e4449579455ed1238ebdf50",
            "value": 377920
          }
        },
        "3d54fb2197314d8cac709662ff2ee644": {
          "model_module": "@jupyter-widgets/controls",
          "model_name": "FloatSliderModel",
          "model_module_version": "1.5.0",
          "state": {
            "_dom_classes": [],
            "_model_module": "@jupyter-widgets/controls",
            "_model_module_version": "1.5.0",
            "_model_name": "FloatSliderModel",
            "_view_count": null,
            "_view_module": "@jupyter-widgets/controls",
            "_view_module_version": "1.5.0",
            "_view_name": "FloatSliderView",
            "continuous_update": true,
            "description": "kb",
            "description_tooltip": null,
            "disabled": false,
            "layout": "IPY_MODEL_a8e8be36cc664a4a8db79a5f875a75b4",
            "max": 1,
            "min": 0,
            "orientation": "horizontal",
            "readout": true,
            "readout_format": ".2f",
            "step": 0.1,
            "style": "IPY_MODEL_e1ab178bb5834d5daca2e37801253218",
            "value": 0.9341
          }
        },
        "0786410eddb34bc29a8adbd848932dc2": {
          "model_module": "@jupyter-widgets/controls",
          "model_name": "FloatSliderModel",
          "model_module_version": "1.5.0",
          "state": {
            "_dom_classes": [],
            "_model_module": "@jupyter-widgets/controls",
            "_model_module_version": "1.5.0",
            "_model_name": "FloatSliderModel",
            "_view_count": null,
            "_view_module": "@jupyter-widgets/controls",
            "_view_module_version": "1.5.0",
            "_view_name": "FloatSliderView",
            "continuous_update": true,
            "description": "Tempo",
            "description_tooltip": null,
            "disabled": false,
            "layout": "IPY_MODEL_a210b7bfebf749f9a19a8c8597807ee5",
            "max": 700,
            "min": 40,
            "orientation": "horizontal",
            "readout": true,
            "readout_format": ".2f",
            "step": 0.1,
            "style": "IPY_MODEL_337a09316e8f456f96f7efe2fad62fb4",
            "value": 70
          }
        },
        "c2ed6b7dc6fa4ae285664e355395f1bc": {
          "model_module": "@jupyter-widgets/output",
          "model_name": "OutputModel",
          "model_module_version": "1.0.0",
          "state": {
            "_dom_classes": [],
            "_model_module": "@jupyter-widgets/output",
            "_model_module_version": "1.0.0",
            "_model_name": "OutputModel",
            "_view_count": null,
            "_view_module": "@jupyter-widgets/output",
            "_view_module_version": "1.0.0",
            "_view_name": "OutputView",
            "layout": "IPY_MODEL_baff50960fb047d58c99e574295e4968",
            "msg_id": "",
            "outputs": [
              {
                "output_type": "display_data",
                "data": {
                  "text/plain": "<Figure size 1300x800 with 6 Axes>",
                  "image/png": "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\n"
                },
                "metadata": {}
              }
            ]
          }
        },
        "57e0376322e44c958163b9f6c9550b2e": {
          "model_module": "@jupyter-widgets/base",
          "model_name": "LayoutModel",
          "model_module_version": "1.2.0",
          "state": {
            "_model_module": "@jupyter-widgets/base",
            "_model_module_version": "1.2.0",
            "_model_name": "LayoutModel",
            "_view_count": null,
            "_view_module": "@jupyter-widgets/base",
            "_view_module_version": "1.2.0",
            "_view_name": "LayoutView",
            "align_content": null,
            "align_items": null,
            "align_self": null,
            "border": null,
            "bottom": null,
            "display": null,
            "flex": null,
            "flex_flow": null,
            "grid_area": null,
            "grid_auto_columns": null,
            "grid_auto_flow": null,
            "grid_auto_rows": null,
            "grid_column": null,
            "grid_gap": null,
            "grid_row": null,
            "grid_template_areas": null,
            "grid_template_columns": null,
            "grid_template_rows": null,
            "height": null,
            "justify_content": null,
            "justify_items": null,
            "left": null,
            "margin": null,
            "max_height": null,
            "max_width": null,
            "min_height": null,
            "min_width": null,
            "object_fit": null,
            "object_position": null,
            "order": null,
            "overflow": null,
            "overflow_x": null,
            "overflow_y": null,
            "padding": null,
            "right": null,
            "top": null,
            "visibility": null,
            "width": null
          }
        },
        "842982e32a09418da6c1140615319492": {
          "model_module": "@jupyter-widgets/base",
          "model_name": "LayoutModel",
          "model_module_version": "1.2.0",
          "state": {
            "_model_module": "@jupyter-widgets/base",
            "_model_module_version": "1.2.0",
            "_model_name": "LayoutModel",
            "_view_count": null,
            "_view_module": "@jupyter-widgets/base",
            "_view_module_version": "1.2.0",
            "_view_name": "LayoutView",
            "align_content": null,
            "align_items": null,
            "align_self": null,
            "border": null,
            "bottom": null,
            "display": null,
            "flex": null,
            "flex_flow": null,
            "grid_area": null,
            "grid_auto_columns": null,
            "grid_auto_flow": null,
            "grid_auto_rows": null,
            "grid_column": null,
            "grid_gap": null,
            "grid_row": null,
            "grid_template_areas": null,
            "grid_template_columns": null,
            "grid_template_rows": null,
            "height": null,
            "justify_content": null,
            "justify_items": null,
            "left": null,
            "margin": null,
            "max_height": null,
            "max_width": null,
            "min_height": null,
            "min_width": null,
            "object_fit": null,
            "object_position": null,
            "order": null,
            "overflow": null,
            "overflow_x": null,
            "overflow_y": null,
            "padding": null,
            "right": null,
            "top": null,
            "visibility": null,
            "width": null
          }
        },
        "774ab598282348dca89f6d808ddeb530": {
          "model_module": "@jupyter-widgets/controls",
          "model_name": "SliderStyleModel",
          "model_module_version": "1.5.0",
          "state": {
            "_model_module": "@jupyter-widgets/controls",
            "_model_module_version": "1.5.0",
            "_model_name": "SliderStyleModel",
            "_view_count": null,
            "_view_module": "@jupyter-widgets/base",
            "_view_module_version": "1.2.0",
            "_view_name": "StyleView",
            "description_width": "",
            "handle_color": null
          }
        },
        "4952e359601d4b54ab667806b9b79c49": {
          "model_module": "@jupyter-widgets/base",
          "model_name": "LayoutModel",
          "model_module_version": "1.2.0",
          "state": {
            "_model_module": "@jupyter-widgets/base",
            "_model_module_version": "1.2.0",
            "_model_name": "LayoutModel",
            "_view_count": null,
            "_view_module": "@jupyter-widgets/base",
            "_view_module_version": "1.2.0",
            "_view_name": "LayoutView",
            "align_content": null,
            "align_items": null,
            "align_self": null,
            "border": null,
            "bottom": null,
            "display": null,
            "flex": null,
            "flex_flow": null,
            "grid_area": null,
            "grid_auto_columns": null,
            "grid_auto_flow": null,
            "grid_auto_rows": null,
            "grid_column": null,
            "grid_gap": null,
            "grid_row": null,
            "grid_template_areas": null,
            "grid_template_columns": null,
            "grid_template_rows": null,
            "height": null,
            "justify_content": null,
            "justify_items": null,
            "left": null,
            "margin": null,
            "max_height": null,
            "max_width": null,
            "min_height": null,
            "min_width": null,
            "object_fit": null,
            "object_position": null,
            "order": null,
            "overflow": null,
            "overflow_x": null,
            "overflow_y": null,
            "padding": null,
            "right": null,
            "top": null,
            "visibility": null,
            "width": null
          }
        },
        "f2c2287258314494a98a32d048169b8c": {
          "model_module": "@jupyter-widgets/controls",
          "model_name": "SliderStyleModel",
          "model_module_version": "1.5.0",
          "state": {
            "_model_module": "@jupyter-widgets/controls",
            "_model_module_version": "1.5.0",
            "_model_name": "SliderStyleModel",
            "_view_count": null,
            "_view_module": "@jupyter-widgets/base",
            "_view_module_version": "1.2.0",
            "_view_name": "StyleView",
            "description_width": "",
            "handle_color": null
          }
        },
        "ebca7344fb5d446da8c558eff313aa78": {
          "model_module": "@jupyter-widgets/base",
          "model_name": "LayoutModel",
          "model_module_version": "1.2.0",
          "state": {
            "_model_module": "@jupyter-widgets/base",
            "_model_module_version": "1.2.0",
            "_model_name": "LayoutModel",
            "_view_count": null,
            "_view_module": "@jupyter-widgets/base",
            "_view_module_version": "1.2.0",
            "_view_name": "LayoutView",
            "align_content": null,
            "align_items": null,
            "align_self": null,
            "border": null,
            "bottom": null,
            "display": null,
            "flex": null,
            "flex_flow": null,
            "grid_area": null,
            "grid_auto_columns": null,
            "grid_auto_flow": null,
            "grid_auto_rows": null,
            "grid_column": null,
            "grid_gap": null,
            "grid_row": null,
            "grid_template_areas": null,
            "grid_template_columns": null,
            "grid_template_rows": null,
            "height": null,
            "justify_content": null,
            "justify_items": null,
            "left": null,
            "margin": null,
            "max_height": null,
            "max_width": null,
            "min_height": null,
            "min_width": null,
            "object_fit": null,
            "object_position": null,
            "order": null,
            "overflow": null,
            "overflow_x": null,
            "overflow_y": null,
            "padding": null,
            "right": null,
            "top": null,
            "visibility": null,
            "width": null
          }
        },
        "516eeb2f3e4449579455ed1238ebdf50": {
          "model_module": "@jupyter-widgets/controls",
          "model_name": "SliderStyleModel",
          "model_module_version": "1.5.0",
          "state": {
            "_model_module": "@jupyter-widgets/controls",
            "_model_module_version": "1.5.0",
            "_model_name": "SliderStyleModel",
            "_view_count": null,
            "_view_module": "@jupyter-widgets/base",
            "_view_module_version": "1.2.0",
            "_view_name": "StyleView",
            "description_width": "",
            "handle_color": null
          }
        },
        "a8e8be36cc664a4a8db79a5f875a75b4": {
          "model_module": "@jupyter-widgets/base",
          "model_name": "LayoutModel",
          "model_module_version": "1.2.0",
          "state": {
            "_model_module": "@jupyter-widgets/base",
            "_model_module_version": "1.2.0",
            "_model_name": "LayoutModel",
            "_view_count": null,
            "_view_module": "@jupyter-widgets/base",
            "_view_module_version": "1.2.0",
            "_view_name": "LayoutView",
            "align_content": null,
            "align_items": null,
            "align_self": null,
            "border": null,
            "bottom": null,
            "display": null,
            "flex": null,
            "flex_flow": null,
            "grid_area": null,
            "grid_auto_columns": null,
            "grid_auto_flow": null,
            "grid_auto_rows": null,
            "grid_column": null,
            "grid_gap": null,
            "grid_row": null,
            "grid_template_areas": null,
            "grid_template_columns": null,
            "grid_template_rows": null,
            "height": null,
            "justify_content": null,
            "justify_items": null,
            "left": null,
            "margin": null,
            "max_height": null,
            "max_width": null,
            "min_height": null,
            "min_width": null,
            "object_fit": null,
            "object_position": null,
            "order": null,
            "overflow": null,
            "overflow_x": null,
            "overflow_y": null,
            "padding": null,
            "right": null,
            "top": null,
            "visibility": null,
            "width": null
          }
        },
        "e1ab178bb5834d5daca2e37801253218": {
          "model_module": "@jupyter-widgets/controls",
          "model_name": "SliderStyleModel",
          "model_module_version": "1.5.0",
          "state": {
            "_model_module": "@jupyter-widgets/controls",
            "_model_module_version": "1.5.0",
            "_model_name": "SliderStyleModel",
            "_view_count": null,
            "_view_module": "@jupyter-widgets/base",
            "_view_module_version": "1.2.0",
            "_view_name": "StyleView",
            "description_width": "",
            "handle_color": null
          }
        },
        "a210b7bfebf749f9a19a8c8597807ee5": {
          "model_module": "@jupyter-widgets/base",
          "model_name": "LayoutModel",
          "model_module_version": "1.2.0",
          "state": {
            "_model_module": "@jupyter-widgets/base",
            "_model_module_version": "1.2.0",
            "_model_name": "LayoutModel",
            "_view_count": null,
            "_view_module": "@jupyter-widgets/base",
            "_view_module_version": "1.2.0",
            "_view_name": "LayoutView",
            "align_content": null,
            "align_items": null,
            "align_self": null,
            "border": null,
            "bottom": null,
            "display": null,
            "flex": null,
            "flex_flow": null,
            "grid_area": null,
            "grid_auto_columns": null,
            "grid_auto_flow": null,
            "grid_auto_rows": null,
            "grid_column": null,
            "grid_gap": null,
            "grid_row": null,
            "grid_template_areas": null,
            "grid_template_columns": null,
            "grid_template_rows": null,
            "height": null,
            "justify_content": null,
            "justify_items": null,
            "left": null,
            "margin": null,
            "max_height": null,
            "max_width": null,
            "min_height": null,
            "min_width": null,
            "object_fit": null,
            "object_position": null,
            "order": null,
            "overflow": null,
            "overflow_x": null,
            "overflow_y": null,
            "padding": null,
            "right": null,
            "top": null,
            "visibility": null,
            "width": null
          }
        },
        "337a09316e8f456f96f7efe2fad62fb4": {
          "model_module": "@jupyter-widgets/controls",
          "model_name": "SliderStyleModel",
          "model_module_version": "1.5.0",
          "state": {
            "_model_module": "@jupyter-widgets/controls",
            "_model_module_version": "1.5.0",
            "_model_name": "SliderStyleModel",
            "_view_count": null,
            "_view_module": "@jupyter-widgets/base",
            "_view_module_version": "1.2.0",
            "_view_name": "StyleView",
            "description_width": "",
            "handle_color": null
          }
        },
        "baff50960fb047d58c99e574295e4968": {
          "model_module": "@jupyter-widgets/base",
          "model_name": "LayoutModel",
          "model_module_version": "1.2.0",
          "state": {
            "_model_module": "@jupyter-widgets/base",
            "_model_module_version": "1.2.0",
            "_model_name": "LayoutModel",
            "_view_count": null,
            "_view_module": "@jupyter-widgets/base",
            "_view_module_version": "1.2.0",
            "_view_name": "LayoutView",
            "align_content": null,
            "align_items": null,
            "align_self": null,
            "border": null,
            "bottom": null,
            "display": null,
            "flex": null,
            "flex_flow": null,
            "grid_area": null,
            "grid_auto_columns": null,
            "grid_auto_flow": null,
            "grid_auto_rows": null,
            "grid_column": null,
            "grid_gap": null,
            "grid_row": null,
            "grid_template_areas": null,
            "grid_template_columns": null,
            "grid_template_rows": null,
            "height": null,
            "justify_content": null,
            "justify_items": null,
            "left": null,
            "margin": null,
            "max_height": null,
            "max_width": null,
            "min_height": null,
            "min_width": null,
            "object_fit": null,
            "object_position": null,
            "order": null,
            "overflow": null,
            "overflow_x": null,
            "overflow_y": null,
            "padding": null,
            "right": null,
            "top": null,
            "visibility": null,
            "width": null
          }
        }
      }
    }
  },
  "cells": [
    {
      "cell_type": "markdown",
      "metadata": {
        "id": "view-in-github",
        "colab_type": "text"
      },
      "source": [
        "<a href=\"https://colab.research.google.com/github/GamaLab42/Material_EQE_441/blob/main/Equa%C3%A7%C3%B5es_de_Momento_e_Cin%C3%A9tica_de_Cristaliza%C3%A7%C3%A3o.ipynb\" target=\"_parent\"><img src=\"https://colab.research.google.com/assets/colab-badge.svg\" alt=\"Open In Colab\"/></a>"
      ]
    },
    {
      "cell_type": "markdown",
      "source": [
        "## Bibliotecas\n"
      ],
      "metadata": {
        "id": "iMvxDWEgO1o2"
      }
    },
    {
      "cell_type": "code",
      "source": [
        "# Bibliotecas usadas nas equações\n",
        "import numpy as np  # Permite o uso de uma ampla variedades de operações matemáticas\n",
        "import mpmath       # Para resolver o sistema de eq. diferenciais, nós utilizados a\n",
        "                    #  DASSL. Devido o algorítimo utilizado ter base na linguagem C++,\n",
        "                    #  ocorre um bug quando temos termos exponenciais não-inteiros.\n",
        "                    #  Exemplo: 2^0.5 roda, mas 2^0.584 não.\n",
        "                    #  Esse pacote permite contornar esse bug.\n",
        "\n",
        "# Biliotecas usadas para plotar as figuras\n",
        "import matplotlib.pyplot as plt                           # Permite a geração de figuras de forma similar ao MATLAB\n",
        "import matplotlib.ticker as mticker                       # Essa biblioteca auxilia na formatação das figuras\n",
        "\n",
        "from ipywidgets import interact, interactive              # Função utilizada para permitir que a figura seja interativa\n",
        "from IPython.display import clear_output, display, HTML   # Função auxiliar do método interativo da figura\n",
        "\n",
        "# Biliotecas usadas para cálcular o tempo de compilação\n",
        "import time\n"
      ],
      "metadata": {
        "id": "zacU17ybIjMC"
      },
      "execution_count": 1,
      "outputs": []
    },
    {
      "cell_type": "markdown",
      "source": [
        "Instalação do pacote para usar o \"Differential-Algebraic System Solver in C\" desenvolvido pelo prof. Argimiro R. Secchi (PEQ/COPPE/UFRJ) em Python usando o Cython (que permite escrever códigos em python declarando funções, tipos, classes e variáveis em C).\n",
        "\n",
        "Esse código foi inicialmente desenvolvido pelo PhD Caio Curitiba Marcellos. Hoje, a atualização do código é realizada pelo PhD Iuri Segtovich\n",
        "(https://github.com/iurisegtovich/dasslcy).\n"
      ],
      "metadata": {
        "id": "7tK3u0nsytnA"
      }
    },
    {
      "cell_type": "code",
      "execution_count": 2,
      "metadata": {
        "colab": {
          "base_uri": "https://localhost:8080/"
        },
        "id": "aOhXRs_WEv0Q",
        "outputId": "bbf12f9a-8706-47d5-c218-1f2dd81295a9"
      },
      "outputs": [
        {
          "output_type": "stream",
          "name": "stdout",
          "text": [
            "Cloning into 'dasslcy'...\n",
            "remote: Enumerating objects: 250, done.\u001b[K\n",
            "remote: Counting objects: 100% (18/18), done.\u001b[K\n",
            "remote: Compressing objects: 100% (15/15), done.\u001b[K\n",
            "remote: Total 250 (delta 3), reused 11 (delta 2), pack-reused 232 (from 1)\u001b[K\n",
            "Receiving objects: 100% (250/250), 844.62 KiB | 5.00 MiB/s, done.\n",
            "Resolving deltas: 100% (118/118), done.\n"
          ]
        }
      ],
      "source": [
        "!git clone https://github.com/iurisegtovich/dasslcy.git"
      ]
    },
    {
      "cell_type": "code",
      "source": [
        "%%bash\n",
        "cd dasslcy\n",
        "pip install ."
      ],
      "metadata": {
        "colab": {
          "base_uri": "https://localhost:8080/"
        },
        "id": "RrB0PZWpHxLD",
        "outputId": "d1a4a276-fce6-4b27-94d6-e73c0a3aac25"
      },
      "execution_count": 3,
      "outputs": [
        {
          "output_type": "stream",
          "name": "stdout",
          "text": [
            "Processing /content/dasslcy\n",
            "  Preparing metadata (setup.py): started\n",
            "  Preparing metadata (setup.py): finished with status 'done'\n",
            "Requirement already satisfied: numpy in /usr/local/lib/python3.10/dist-packages (from dasslcy==0.1) (1.26.4)\n",
            "Building wheels for collected packages: dasslcy\n",
            "  Building wheel for dasslcy (setup.py): started\n",
            "  Building wheel for dasslcy (setup.py): finished with status 'done'\n",
            "  Created wheel for dasslcy: filename=dasslcy-0.1-cp310-cp310-linux_x86_64.whl size=565799 sha256=b23fa55fae63b14661d2bb49052c71369573415a724928695c552474db3e50bc\n",
            "  Stored in directory: /tmp/pip-ephem-wheel-cache-e26_nqtd/wheels/79/2f/53/98b2cb35d6ede3587e35e2ede2cb4bdc3f84cf97fdbd9c3bb2\n",
            "Successfully built dasslcy\n",
            "Installing collected packages: dasslcy\n",
            "Successfully installed dasslcy-0.1\n"
          ]
        }
      ]
    },
    {
      "cell_type": "code",
      "source": [
        "# Após a instalação, a biblioteca \"dasslcy\" precisa ser importada para ser corretamente utilizada\n",
        "#   OBS: No PC, a instalação realizada acima só precisa ser feita uma única vez. No colab, é\n",
        "#         necessário a instalação todas as vezes que é iniciado o ambiente de execução.\n",
        "\n",
        "import dasslcy\n"
      ],
      "metadata": {
        "id": "9eyK06wEvy7y"
      },
      "execution_count": 4,
      "outputs": []
    },
    {
      "cell_type": "markdown",
      "source": [
        "## Parâmetros utilizados no modelo"
      ],
      "metadata": {
        "id": "QZTqt9EwO6NV"
      }
    },
    {
      "cell_type": "markdown",
      "source": [
        "Os parâmetros apresentados aqui foram estimados para um estudo de caso da formação de cristais de $K_2SO_4$. Para mais informações, recomenda-se a leitura do artigo do prof. Marcellus de Moraes (2023):\n",
        "\n",
        "\"*Modeling and Predictive Control of Cooling Crystallization of Potassium Sulfate by Dynamic Image Analysis: Exploring Phenomenological and Machine Learning Approaches*\"\n",
        "\n",
        "DOI: https://doi.org/10.1021/acs.iecr.3c00739"
      ],
      "metadata": {
        "id": "SchANtuX1jzx"
      }
    },
    {
      "cell_type": "code",
      "source": [
        "## Iniciar as constantes utilizadas no modelo\n",
        "\n",
        "# @title Parâmetros do sistema: { display-mode: \"form\", run: \"auto\" }\n",
        "\n",
        "# @markdown Tempo (min)\n",
        "Tempo         = 70      # @param {type:\"number\"}    # mim\n",
        "Tempo = float(Tempo)\n",
        "\n",
        "# @markdown Temperatura (K)\n",
        "T         = 273.15+39.38      # @param {type:\"number\"}    # Kelvin\n",
        "\n",
        "EQ        = 5                 # Número de Equações\n",
        "\n",
        "# @markdown Energia de ativação do crecimento ($E_{Ag}$, J/mol/R)\n",
        "E_Ag      = 4.8654E+3          # @param {type:\"number\"}    # Growth activation energy\n",
        "\n",
        "# @markdown Energia de ativação da nucleação ($E_{Ab}$, J/mol/R)\n",
        "E_Ab      = 6.8740E+3          # @param {type:\"number\"}    # Nucleation activation energy\n",
        "\n",
        "# @markdown Parâmetro adimensional do termo de nucleação [-]\n",
        "b         = 0.8361                 # @param {type:\"number\"}    # Nucleation supersaturation exponent\n",
        "\n",
        "# @markdown Parâmetro adimensional do termo de nucleação ($\\beta$, [-])\n",
        "\n",
        "beta      = 1.3728                 # @param {type:\"number\"}    # Nucleation rate\n",
        "\n",
        "# @markdown Parâmetro adimensional do termo de crescimento [-]\n",
        "g         = 1.6228                 # @param {type:\"number\"}    # Growth exponent parameter\n",
        "\n",
        "# @markdown Constante da taxa de crescimento [$k_g$, $(\\mu m/min)(L/g)^g$)\n",
        "\n",
        "kg        = 3.7792E+5                 # @param {type:\"number\"}    # Growth rate constant\n",
        "\n",
        "# @markdown Constante da nucleação ($k_b$, $\\left[\\left(min \\cdot cm^3\\right)^{-1}\\left(L\\text{ de solução}/g\\right)^b\\left(cm^3\\text{ da suspensão}/\\mu m^3\\right)^{\\beta}\\right]$)\n",
        "\n",
        "kb        = 0.9341                # @param {type:\"number\"}    # Nucleation constant\n",
        "\n",
        "# @markdown Fator de forma de volume ($k_V$, [-])\n",
        "\n",
        "kv        = 1.3486                 # @param {type:\"number\"}    # Volume shape factor\n",
        "\n",
        "# @markdown Constante de crescimento dependente do tamanho ($\\gamma$, $1/\\mu m $)\n",
        "\n",
        "gamma     = 2.3895E-3                 # @param {type:\"number\"}    # Size-dependent growth constant\n",
        "\n",
        "# @markdown Densidade do cristal ($\\rho_c$, $g/\\mu m^3$) - Estudo de caso $K_2SO_4$\n",
        "\n",
        "ro        = 2.36E-12                 # @param {type:\"number\"}    # 2.36 g/cm^3 K2SO4\n"
      ],
      "metadata": {
        "id": "YblKR_I6VJR_"
      },
      "execution_count": 31,
      "outputs": []
    },
    {
      "cell_type": "markdown",
      "source": [
        "## Modelo de cinética de precipitação e cristalização"
      ],
      "metadata": {
        "id": "NABMZaL2F0gU"
      }
    },
    {
      "cell_type": "markdown",
      "source": [
        "As equações apresentadas aqui estão de acordo com Moraes et al (2023): https://doi.org/10.1021/acs.iecr.3c00739"
      ],
      "metadata": {
        "id": "DkS8sgnz2ljY"
      }
    },
    {
      "cell_type": "markdown",
      "source": [
        "O balanço de massa do soluto no cristalizador em batelada é expresso por:\n",
        "\n",
        "$\\dfrac{dC}{dt} = - \\dfrac{3 \\ \\rho_c k_V }{1 - \\vartheta} \\ G_0 \\ (\\mu_{2} + \\gamma \\ \\mu_{3})$\n",
        "\n",
        "em que $C$ é a concentração ($g$ de soluto/$L$ de solução), $\\rho_c$ é a densidade do cristal, $\\gamma$ é a constante de crescimento dependente do tamanho $\\left( 1/\\mu m \\right)$; $\\vartheta$ é a fração volumétrica da população total de cristais, definido por:\n",
        "\n",
        "$\\vartheta = k_V \\ \\mu_3 \\cdot 10^{-12}$ \\\n",
        "em que $k_V$ é o fator de forma. O termo $10^{-12}$ converte o terceiro momento ($\\mu_3$, $\\mu m^3 / cm^3$ de suspensão) para um fator adimensional."
      ],
      "metadata": {
        "id": "wXD5uk0Z20_j"
      }
    },
    {
      "cell_type": "code",
      "source": [
        "def func_C(ro, kv, G0, mu2, mu3, gamma):\n",
        "    tetha = kv*mu3*1.0e-12\n",
        "    return 3.*ro*kv*G0*(mu2 + gamma*mu3)/(1.-tetha)"
      ],
      "metadata": {
        "id": "8JxTwERh2w-p"
      },
      "execution_count": 6,
      "outputs": []
    },
    {
      "cell_type": "markdown",
      "source": [
        "$G_0$ [$\\mu m /min$] está relacionado com a taxa de crescimento dependente do tamanho, sendo $G_0$ um fator dependente da temperatura e da supersaturação:\n",
        "\n",
        "$G_0 = k_g \\exp\\left(\\dfrac{-E_{Ag}}{RT}\\right)\\Delta C^g $\n",
        "\n",
        "em que $k_g$ é a constante da taxa de crescimento [$(\\mu m/min)(L/g)^g$, com o expoente $g$ sendo um parâmetro adimensional relacionado com a taxa]; $-E_{Ag}$ é a energia de ativação do crecimento $\\left(J/mol\\right)$; $R$ e $T$ são a constante universal dos gases e a temperatura do sistema ($K$), respectivamente; A supersaturação absoluta é $\\Delta C = C - C_s$ ($g$/$L$ de solução), com $C_s$ representando a concentração de soluto no equilíbrio."
      ],
      "metadata": {
        "id": "zbbMVjXN3fdl"
      }
    },
    {
      "cell_type": "code",
      "source": [
        "def func_G0(E_Ag, T, C, g, kg):\n",
        "    dC = C/1000 - func_Cs(T)\n",
        "    return kg*np.exp(-E_Ag/T)*round(float(mpmath.re(mpmath.power(dC, g))), 10)"
      ],
      "metadata": {
        "id": "claaKWp-3KEB"
      },
      "execution_count": 7,
      "outputs": []
    },
    {
      "cell_type": "markdown",
      "source": [
        "Uma correlação dependente da temperatura para $C_s$ ($g$/$L$ de solução)\n",
        "foi obtida a partir de dados experimentais de solubilidade de $K_2SO_4$ em água (faixa entre 0 a 100 ºC):\n",
        "\n",
        "$C_s(T)[g/L] = -687.27 + 3.5795T - 2.9287 \\cdot 10^{-3}T^2$"
      ],
      "metadata": {
        "id": "_sxrli0-4bnn"
      }
    },
    {
      "cell_type": "code",
      "source": [
        "def func_Cs(T):\n",
        "    return (-687.27 + 3.5795*(T) - 2.9287E-3*(T)**2)"
      ],
      "metadata": {
        "id": "nOlVrnfg3q-6"
      },
      "execution_count": 8,
      "outputs": []
    },
    {
      "cell_type": "markdown",
      "source": [
        "A condição de contorno estabelece que a taxa de nucleação $[(min \\cdot cm^{3})^{-1}]$ é descrita por:\n",
        "\n",
        "$B = k_b \\exp\\left(\\dfrac{-E_{Ab}}{RT}\\right)\\Delta C^b \\mu_3^{\\beta} $\n",
        "\n",
        "em que $k_b$ é a constante da nucleação, em unidades de $\\left[\\left(min \\cdot cm^3\\right)^{-1}\\left(L\\text{ de solução}/g\\right)^b\\left(cm^3\\text{ da suspensão}/\\mu m^3\\right)^{\\beta}\\right]$; $E_{Ab}$ é a energia de ativação da nucleação $\\left(J/mol\\right)$; e $b$ e $\\beta$ são expoentes adimensionais."
      ],
      "metadata": {
        "id": "NOGh-vqa4z1T"
      }
    },
    {
      "cell_type": "code",
      "source": [
        "def func_B(E_Ab, T, C, b, mu3, kb):\n",
        "    dC = C/1000 - func_Cs(T)\n",
        "    return kb*np.exp(-E_Ab/T)*round(float(mpmath.re(mpmath.power(dC, b))), 10)*round(float(mpmath.re(mpmath.power(mu3, beta))), 10)"
      ],
      "metadata": {
        "id": "-GHTGdF64jm2"
      },
      "execution_count": 9,
      "outputs": []
    },
    {
      "cell_type": "markdown",
      "source": [
        "\n",
        "\n",
        "\n",
        "\n",
        "\n",
        "\n",
        "\n",
        "\n",
        "\n",
        "\n",
        "\n",
        "Para encontrar o valor de $B$ e resolver o balanço de massa, são necessários determinar os momentos $\\mu_0$, $\\mu_1$, $\\mu_2$ e $\\mu_3$. Esses parâmetros estão relacionados, respectivamente, ao número, comprimento, área superficial e volume total de cristais:\n",
        "\n",
        "$\\dfrac{d\\mu_{0}}{dt} = B$ \\\n",
        "$\\dfrac{d\\mu_{1}}{dt} = G_0 (\\mu_0 +  \\gamma \\ \\mu_1)$ \\\n",
        "$\\dfrac{d\\mu_{2}}{dt} = 2 \\ G_0 (\\mu_1 +  \\gamma \\ \\mu_2)$ \\\n",
        "$\\dfrac{d\\mu_{3}}{dt} = 3 \\ G_0 (\\mu_2 +  \\gamma \\ \\mu_3)$\n",
        "\n"
      ],
      "metadata": {
        "id": "A9l6iCZ3F6dp"
      }
    },
    {
      "cell_type": "code",
      "source": [
        "def func_mu1(G0, mu0, mu1):\n",
        "    return G0*(mu0 + gamma*mu1)\n",
        "def func_mu2(G0, mu1, mu2):\n",
        "    return 2.*G0*(mu1 + gamma*mu2)\n",
        "def func_mu3(G0, mu2, mu3):\n",
        "    return 3.*G0*(mu2 + gamma*mu3)"
      ],
      "metadata": {
        "id": "y6HwDktM43RC"
      },
      "execution_count": 10,
      "outputs": []
    },
    {
      "cell_type": "markdown",
      "source": [
        "## Resolvendo o sistema de derivadas utilizando a DASSL"
      ],
      "metadata": {
        "id": "7p048a2I54Ub"
      }
    },
    {
      "cell_type": "code",
      "source": [
        "def model(t,y,yp,par):\n",
        "  E_Ag, E_Ab, kg, kb = par\n",
        "  res = np.zeros((EQ,))\n",
        "\n",
        "  mu0 = y[0]\n",
        "  mu1 = y[1]\n",
        "  mu2 = y[2]\n",
        "  mu3 = y[3]\n",
        "  C   = y[4]\n",
        "  mu0_PRIME   = yp[0]\n",
        "  mu1_PRIME   = yp[1]\n",
        "  mu2_PRIME   = yp[2]\n",
        "  mu3_PRIME   = yp[3]\n",
        "  C_PRIME     = yp[4]\n",
        "\n",
        "  Cs = (-687.27 + 3.5795*(T) - 2.9287E-3*(T)**2)\n",
        "  dC    = C*1000 - Cs\n",
        "\n",
        "  G0 = kg*np.exp(-E_Ag/T)*round(float(mpmath.re(mpmath.power(dC, g))), 10)\n",
        "  B  = kb*np.exp(-E_Ab/T)*round(float(mpmath.re(mpmath.power(dC, b))), 10)*round(float(mpmath.re(mpmath.power(mu3, beta))), 10)\n",
        "\n",
        "  tetha = kv*mu3*1.0e-12\n",
        "\n",
        "  res[0]  =  mu0_PRIME - B\n",
        "  res[1]  =  mu1_PRIME - G0*(mu0 + gamma*mu1)\n",
        "  res[2]  =  mu2_PRIME - 2.*G0*(mu1 + gamma*mu2)\n",
        "  res[3]  =  mu3_PRIME - 3.*G0*(mu2 + gamma*mu3)\n",
        "  res[4]  =  - C_PRIME - 3.*ro*kv*G0*(mu2 + gamma*mu3)/(1.-tetha)\n",
        "  ires = 0\n",
        "\n",
        "  return res, ires"
      ],
      "metadata": {
        "id": "bHZTd0T5KMR_"
      },
      "execution_count": 11,
      "outputs": []
    },
    {
      "cell_type": "code",
      "source": [
        "# @title Condições iniciais (Moraes et al 2023): { display-mode: \"form\", run: \"auto\" }\n",
        "\n",
        "# @markdown $\\mu_0$ ($1/cm^3$)\n",
        "mu0_0         = 1559.23        # @param {type:\"number\"}\n",
        "\n",
        "# @markdown $\\mu_1$ ($\\mu m/cm^3$)\n",
        "mu1_0         = 21_237.53      # @param {type:\"number\"}\n",
        "\n",
        "# @markdown $\\mu_2$ ($\\mu^2 m/cm^3$)\n",
        "mu2_0         = 1_847_000.97   # @param {type:\"number\"}\n",
        "\n",
        "# @markdown $\\mu_3$ ($\\mu^3 m/cm^3$)\n",
        "mu3_0         = 234_067_271.73 # @param {type:\"number\"}\n",
        "\n",
        "# @markdown $C_0$ ($g/cm^3$)\n",
        "C0            = 0.1605         # @param {type:\"number\"}"
      ],
      "metadata": {
        "id": "cJ-WFefg77YM"
      },
      "execution_count": 12,
      "outputs": []
    },
    {
      "cell_type": "code",
      "source": [
        "# @title Código para geração dos gráficos { display-mode: \"form\", run: \"auto\" }\n",
        "\n",
        "def plot_fig(t,y,time):\n",
        "  fig, axs = plt.subplots(2, 3, figsize=(13, 8))\n",
        "\n",
        "  # Plotando os dados no subplot [0, 0]\n",
        "  axs[0, 0].plot(t, y[:, 0])\n",
        "  #axs[0, 0].set_ylim([0, 4E+5])\n",
        "  axs[0, 0].set_xlim([0, time])\n",
        "  axs[0, 0].set_ylabel('$\\mu_0$ ($1/cm^3$)')\n",
        "  axs[0, 0].set_xlabel('Tempo (min)')\n",
        "  axs[0, 0].set_xticks(range(0, int(time), int(time/10)))\n",
        "\n",
        "  # Forçar notação científica no y-axis do subplot [0, 0]\n",
        "  axs[0, 0].yaxis.set_major_formatter(mticker.ScalarFormatter(useMathText=True))\n",
        "  axs[0, 0].ticklabel_format(style='sci', axis='y', scilimits=(0, 0))\n",
        "\n",
        "  # Plotando os dados no subplot [0, 1]\n",
        "  axs[0, 1].plot(t, y[:, 1], 'tab:orange')\n",
        "  #axs[0, 1].set_ylim([0, 4E+6])\n",
        "  axs[0, 1].set_xlim([0, time])\n",
        "  axs[0, 1].set_ylabel('$\\mu_1$ ($\\mu m/cm^3$)')\n",
        "  axs[0, 1].set_xlabel('Tempo (min)')\n",
        "  axs[0, 0].set_xticks(range(0, int(time), int(time/10)))\n",
        "\n",
        "  # Forçar notação científica no y-axis do subplot [0, 1]\n",
        "  axs[0, 1].yaxis.set_major_formatter(mticker.ScalarFormatter(useMathText=True))\n",
        "  axs[0, 1].ticklabel_format(style='sci', axis='y', scilimits=(0, 0))\n",
        "\n",
        "  # Plotando os dados no subplot [0, 2]\n",
        "  axs[0, 2].plot(t, y[:, 2], 'tab:green')\n",
        "  #axs[0, 2].set_ylim([0, 1E+8])\n",
        "  axs[0, 2].set_xlim([0, time])\n",
        "  axs[0, 2].set_ylabel('$\\mu_2$ ($\\mu m^2/cm^3$)')\n",
        "  axs[0, 2].set_xlabel('Tempo (min)')\n",
        "  axs[0, 0].set_xticks(range(0, int(time), int(time/10)))\n",
        "\n",
        "  # Forçar notação científica no y-axis do subplot [0, 2]\n",
        "  axs[0, 2].yaxis.set_major_formatter(mticker.ScalarFormatter(useMathText=True))\n",
        "  axs[0, 2].ticklabel_format(style='sci', axis='y', scilimits=(0, 0))\n",
        "\n",
        "  # Plotando os dados no subplot [1, 0]\n",
        "  axs[1, 0].plot(t, y[:, 3], 'tab:red')\n",
        "  #axs[1, 0].set_ylim([0, 6E+9])\n",
        "  axs[1, 0].set_xlim([0, time])\n",
        "  axs[1, 0].set_ylabel('$\\mu_3$ ($\\mu m^3/cm^3$)')\n",
        "  axs[1, 0].set_xlabel('Tempo (min)')\n",
        "  axs[0, 0].set_xticks(range(0, int(time), int(time/10)))\n",
        "\n",
        "  # Forçar notação científica no y-axis do subplot [1, 0]\n",
        "  axs[1, 0].yaxis.set_major_formatter(mticker.ScalarFormatter(useMathText=True))\n",
        "  axs[1, 0].ticklabel_format(style='sci', axis='y', scilimits=(0, 0))\n",
        "\n",
        "  # Adicionando a quinta figura no subplot [1, 1]\n",
        "  axs[1, 1].plot(t, y[:, 4], 'tab:purple')\n",
        "  #axs[1, 1].set_ylim([0.14, 0.17])\n",
        "  axs[1, 1].set_xlim([0, time])\n",
        "  axs[1, 1].set_ylabel('$C_0$ ($g/cm^3$)')\n",
        "  axs[1, 1].set_xlabel('Tempo (min)')\n",
        "  axs[0, 0].set_xticks(range(0, int(time), int(time/10)))\n",
        "\n",
        "  # Forçar notação científica no y-axis do subplot [1, 1]\n",
        "  axs[1, 1].yaxis.set_major_formatter(mticker.ScalarFormatter(useMathText=True))\n",
        "  axs[1, 1].ticklabel_format(style='sci', axis='y', scilimits=(0, 0))\n",
        "\n",
        "  # Deixando o último subplot vazio\n",
        "  axs[1, 2].axis('off')  # Desliga o último eixo.\n",
        "                         #   Estamos trabalhando com um nº impar de figuras\n",
        "\n",
        "  plt.tight_layout()     # Evitar sobreposições das figuras\n",
        "\n",
        "  return plt.show()"
      ],
      "metadata": {
        "id": "wjJNKViJ1zWc"
      },
      "execution_count": 55,
      "outputs": []
    },
    {
      "cell_type": "code",
      "source": [
        "def solve_cristalization(E_Ag = 4.8654E+3 , E_Ab = 6.8740E+3, kg = 3.7792E+5, kb = 0.9341, Tempo = Tempo):\n",
        "    atol = 1e-8 # Tolerância absoluta\n",
        "    rtol = 1e-6 # Tolerância relativa\n",
        "\n",
        "    par = (\n",
        "        E_Ag, E_Ab, kg, kb\n",
        "    )\n",
        "\n",
        "    # Tempo total do processo de cinética\n",
        "    t0 = np.array([Tempo], dtype=np.float64)\n",
        "\n",
        "    # Iniciando os vetores das condições iniciais\n",
        "    y0 = np.zeros(EQ, dtype=np.float64)\n",
        "    yp0 = np.zeros(EQ, dtype=np.float64)\n",
        "\n",
        "    # Repassando os valores iniciais estabelecidos\n",
        "    y0[0] = mu0_0\n",
        "    y0[1] = mu1_0\n",
        "    y0[2] = mu2_0\n",
        "    y0[3] = mu3_0\n",
        "    y0[4] = C0\n",
        "\n",
        "    # Resolvendo o sistema\n",
        "    t_, y, yp = dasslcy.solve(model,t0,y0,yp0,par,rtol,atol)\n",
        "    t=np.asarray(t_)\n",
        "\n",
        "    plot_fig(t,y,Tempo)\n",
        "\n",
        "    return t, y"
      ],
      "metadata": {
        "id": "RHCeXZsA082_"
      },
      "execution_count": 56,
      "outputs": []
    },
    {
      "cell_type": "code",
      "source": [
        "print(f\"Perfil dos momentos e da concentração em batelada a temperatura constante {T} K.\")\n"
      ],
      "metadata": {
        "colab": {
          "base_uri": "https://localhost:8080/"
        },
        "id": "3oDYMcmFACvS",
        "outputId": "4d17b4e0-f807-48a2-de77-05756f7ca687"
      },
      "execution_count": 40,
      "outputs": [
        {
          "output_type": "stream",
          "name": "stdout",
          "text": [
            "Perfil dos momentos e da concentração em batelada a temperatura constante 312.53 K.\n"
          ]
        }
      ]
    },
    {
      "cell_type": "code",
      "source": [
        "w = interactive(solve_cristalization, E_Ag=(6.0E+2,7.0E+3), E_Ab=(7.0E+2,9.0E+3),\n",
        "                kg = (3.0E+5, 5.0E+5), kb=(0.0,1.0), Tempo=(40.,10*Tempo))\n",
        "display(w)"
      ],
      "metadata": {
        "colab": {
          "base_uri": "https://localhost:8080/",
          "height": 966,
          "referenced_widgets": [
            "ec464432d52741e2b3fcb7483b49241f",
            "ac9577385c60491ab479ef66182efa02",
            "593dbc8e74354ebeaefcecb2d0f79e77",
            "fc56344f3358411aab3b9c4bae20ce09",
            "3d54fb2197314d8cac709662ff2ee644",
            "0786410eddb34bc29a8adbd848932dc2",
            "c2ed6b7dc6fa4ae285664e355395f1bc",
            "57e0376322e44c958163b9f6c9550b2e",
            "842982e32a09418da6c1140615319492",
            "774ab598282348dca89f6d808ddeb530",
            "4952e359601d4b54ab667806b9b79c49",
            "f2c2287258314494a98a32d048169b8c",
            "ebca7344fb5d446da8c558eff313aa78",
            "516eeb2f3e4449579455ed1238ebdf50",
            "a8e8be36cc664a4a8db79a5f875a75b4",
            "e1ab178bb5834d5daca2e37801253218",
            "a210b7bfebf749f9a19a8c8597807ee5",
            "337a09316e8f456f96f7efe2fad62fb4",
            "baff50960fb047d58c99e574295e4968"
          ]
        },
        "id": "q31NfM4P1JOV",
        "outputId": "40786ca5-eb65-452f-c30c-7303f9b7ac0b"
      },
      "execution_count": 60,
      "outputs": [
        {
          "output_type": "display_data",
          "data": {
            "text/plain": [
              "interactive(children=(FloatSlider(value=4865.4, description='E_Ag', max=7000.0, min=600.0), FloatSlider(value=…"
            ],
            "application/vnd.jupyter.widget-view+json": {
              "version_major": 2,
              "version_minor": 0,
              "model_id": "ec464432d52741e2b3fcb7483b49241f"
            }
          },
          "metadata": {}
        }
      ]
    },
    {
      "cell_type": "code",
      "source": [
        "# @title Plot estático das figuras { display-mode: \"form\", run: \"auto\" }\n",
        "\n",
        "atol = 1e-8\n",
        "rtol = 1e-6\n",
        "\n",
        "par = (\n",
        "        E_Ag, E_Ab, kg, kb\n",
        "    )\n",
        "\n",
        "t0 = np.array([Tempo], dtype=np.float64)\n",
        "\n",
        "y0 = np.zeros(EQ, dtype=np.float64)\n",
        "yp0 = np.zeros(EQ, dtype=np.float64)\n",
        "\n",
        "y0[0] = mu0_0\n",
        "y0[1] = mu1_0\n",
        "y0[2] = mu2_0\n",
        "y0[3] = mu3_0\n",
        "y0[4] = C0\n",
        "\n",
        "t_, y, yp = dasslcy.solve(model,t0,y0,yp0,par,rtol,atol)\n",
        "t=np.asarray(t_)\n",
        "\n",
        "plot_fig(t,y,Tempo)"
      ],
      "metadata": {
        "colab": {
          "base_uri": "https://localhost:8080/",
          "height": 806
        },
        "id": "DONpvZLdF5G1",
        "outputId": "037a8b90-efd8-4c26-a048-9ff87c60159b"
      },
      "execution_count": 45,
      "outputs": [
        {
          "output_type": "display_data",
          "data": {
            "text/plain": [
              "<Figure size 1300x800 with 6 Axes>"
            ],
            "image/png": "[encoded data removed]"
          },
          "metadata": {}
        }
      ]
    }
  ]
}