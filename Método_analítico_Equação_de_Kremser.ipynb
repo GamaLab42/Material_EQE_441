{
  "nbformat": 4,
  "nbformat_minor": 0,
  "metadata": {
    "colab": {
      "provenance": [],
      "authorship_tag": "ABX9TyP+gj3V0nUW4HKaG6PBTeNu",
      "include_colab_link": true
    },
    "kernelspec": {
      "name": "python3",
      "display_name": "Python 3"
    },
    "language_info": {
      "name": "python"
    },
    "widgets": {
      "application/vnd.jupyter.widget-state+json": {
        "01b556859cb74d22bd01591e2035fa77": {
          "model_module": "@jupyter-widgets/controls",
          "model_name": "VBoxModel",
          "model_module_version": "1.5.0",
          "state": {
            "_dom_classes": [
              "widget-interact"
            ],
            "_model_module": "@jupyter-widgets/controls",
            "_model_module_version": "1.5.0",
            "_model_name": "VBoxModel",
            "_view_count": null,
            "_view_module": "@jupyter-widgets/controls",
            "_view_module_version": "1.5.0",
            "_view_name": "VBoxView",
            "box_style": "",
            "children": [
              "IPY_MODEL_9f64281815ed43a994950fcf44c1d84c",
              "IPY_MODEL_cc76e1743b364cf2a759ab06ba2a8f90",
              "IPY_MODEL_22363d546414400f83c210a66a265242",
              "IPY_MODEL_c48e44c48ff64c36bcf5af5548bb6ff5",
              "IPY_MODEL_5431b947b98b4686adb2d0c8e60c7904",
              "IPY_MODEL_a91be4f2125f48afb8f8f53bb65c9602"
            ],
            "layout": "IPY_MODEL_7a28f7e6f95141c3b0b5e35563631dd7"
          }
        },
        "9f64281815ed43a994950fcf44c1d84c": {
          "model_module": "@jupyter-widgets/controls",
          "model_name": "FloatSliderModel",
          "model_module_version": "1.5.0",
          "state": {
            "_dom_classes": [],
            "_model_module": "@jupyter-widgets/controls",
            "_model_module_version": "1.5.0",
            "_model_name": "FloatSliderModel",
            "_view_count": null,
            "_view_module": "@jupyter-widgets/controls",
            "_view_module_version": "1.5.0",
            "_view_name": "FloatSliderView",
            "continuous_update": true,
            "description": "x_feed",
            "description_tooltip": null,
            "disabled": false,
            "layout": "IPY_MODEL_0722b8f0a1bd4b8fb729b891914d08f3",
            "max": 0.6,
            "min": 0.001,
            "orientation": "horizontal",
            "readout": true,
            "readout_format": ".2e",
            "step": 0.01,
            "style": "IPY_MODEL_a7c616fa176e4bd49662a64fa3f40711",
            "value": 0.01
          }
        },
        "cc76e1743b364cf2a759ab06ba2a8f90": {
          "model_module": "@jupyter-widgets/controls",
          "model_name": "FloatSliderModel",
          "model_module_version": "1.5.0",
          "state": {
            "_dom_classes": [],
            "_model_module": "@jupyter-widgets/controls",
            "_model_module_version": "1.5.0",
            "_model_name": "FloatSliderModel",
            "_view_count": null,
            "_view_module": "@jupyter-widgets/controls",
            "_view_module_version": "1.5.0",
            "_view_name": "FloatSliderView",
            "continuous_update": true,
            "description": "x_ref",
            "description_tooltip": null,
            "disabled": false,
            "layout": "IPY_MODEL_f558bac791ec494ca65a388abc9c9b4e",
            "max": 0.01,
            "min": 0.0001,
            "orientation": "horizontal",
            "readout": true,
            "readout_format": ".2e",
            "step": 0.001,
            "style": "IPY_MODEL_981997e59a4c407b885f9f1fd27114f8",
            "value": 0.001
          }
        },
        "22363d546414400f83c210a66a265242": {
          "model_module": "@jupyter-widgets/controls",
          "model_name": "IntSliderModel",
          "model_module_version": "1.5.0",
          "state": {
            "_dom_classes": [],
            "_model_module": "@jupyter-widgets/controls",
            "_model_module_version": "1.5.0",
            "_model_name": "IntSliderModel",
            "_view_count": null,
            "_view_module": "@jupyter-widgets/controls",
            "_view_module_version": "1.5.0",
            "_view_name": "IntSliderView",
            "continuous_update": true,
            "description": "m",
            "description_tooltip": null,
            "disabled": false,
            "layout": "IPY_MODEL_c8f4f8bc81cb4d93b1c2f24ccf81adb3",
            "max": 20,
            "min": 2,
            "orientation": "horizontal",
            "readout": true,
            "readout_format": "d",
            "step": 1,
            "style": "IPY_MODEL_c601c1a9aa8943ac819148cfdb77d6a7",
            "value": 5
          }
        },
        "c48e44c48ff64c36bcf5af5548bb6ff5": {
          "model_module": "@jupyter-widgets/controls",
          "model_name": "IntSliderModel",
          "model_module_version": "1.5.0",
          "state": {
            "_dom_classes": [],
            "_model_module": "@jupyter-widgets/controls",
            "_model_module_version": "1.5.0",
            "_model_name": "IntSliderModel",
            "_view_count": null,
            "_view_module": "@jupyter-widgets/controls",
            "_view_module_version": "1.5.0",
            "_view_name": "IntSliderView",
            "continuous_update": true,
            "description": "F",
            "description_tooltip": null,
            "disabled": false,
            "layout": "IPY_MODEL_646df7fce47244ee9078645568719e7b",
            "max": 20,
            "min": 2,
            "orientation": "horizontal",
            "readout": true,
            "readout_format": "d",
            "step": 1,
            "style": "IPY_MODEL_5fafd9fbcc9d496ea5a89d2df772afd1",
            "value": 5
          }
        },
        "5431b947b98b4686adb2d0c8e60c7904": {
          "model_module": "@jupyter-widgets/controls",
          "model_name": "IntSliderModel",
          "model_module_version": "1.5.0",
          "state": {
            "_dom_classes": [],
            "_model_module": "@jupyter-widgets/controls",
            "_model_module_version": "1.5.0",
            "_model_name": "IntSliderModel",
            "_view_count": null,
            "_view_module": "@jupyter-widgets/controls",
            "_view_module_version": "1.5.0",
            "_view_name": "IntSliderView",
            "continuous_update": true,
            "description": "max_S",
            "description_tooltip": null,
            "disabled": false,
            "layout": "IPY_MODEL_6c7bd8b353924092b3866abfdf4780bb",
            "max": 180,
            "min": 10,
            "orientation": "horizontal",
            "readout": true,
            "readout_format": "d",
            "step": 10,
            "style": "IPY_MODEL_7cae5f0ed224437bbdc193e93de10285",
            "value": 60
          }
        },
        "a91be4f2125f48afb8f8f53bb65c9602": {
          "model_module": "@jupyter-widgets/output",
          "model_name": "OutputModel",
          "model_module_version": "1.0.0",
          "state": {
            "_dom_classes": [],
            "_model_module": "@jupyter-widgets/output",
            "_model_module_version": "1.0.0",
            "_model_name": "OutputModel",
            "_view_count": null,
            "_view_module": "@jupyter-widgets/output",
            "_view_module_version": "1.0.0",
            "_view_name": "OutputView",
            "layout": "IPY_MODEL_59a3e539ffbb4632b09272e987237ea0",
            "msg_id": "",
            "outputs": [
              {
                "output_type": "display_data",
                "data": {
                  "text/plain": "<Figure size 640x480 with 1 Axes>",
                  "image/png": "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\n"
                },
                "metadata": {}
              }
            ]
          }
        },
        "7a28f7e6f95141c3b0b5e35563631dd7": {
          "model_module": "@jupyter-widgets/base",
          "model_name": "LayoutModel",
          "model_module_version": "1.2.0",
          "state": {
            "_model_module": "@jupyter-widgets/base",
            "_model_module_version": "1.2.0",
            "_model_name": "LayoutModel",
            "_view_count": null,
            "_view_module": "@jupyter-widgets/base",
            "_view_module_version": "1.2.0",
            "_view_name": "LayoutView",
            "align_content": null,
            "align_items": null,
            "align_self": null,
            "border": null,
            "bottom": null,
            "display": null,
            "flex": null,
            "flex_flow": null,
            "grid_area": null,
            "grid_auto_columns": null,
            "grid_auto_flow": null,
            "grid_auto_rows": null,
            "grid_column": null,
            "grid_gap": null,
            "grid_row": null,
            "grid_template_areas": null,
            "grid_template_columns": null,
            "grid_template_rows": null,
            "height": null,
            "justify_content": null,
            "justify_items": null,
            "left": null,
            "margin": null,
            "max_height": null,
            "max_width": null,
            "min_height": null,
            "min_width": null,
            "object_fit": null,
            "object_position": null,
            "order": null,
            "overflow": null,
            "overflow_x": null,
            "overflow_y": null,
            "padding": null,
            "right": null,
            "top": null,
            "visibility": null,
            "width": null
          }
        },
        "0722b8f0a1bd4b8fb729b891914d08f3": {
          "model_module": "@jupyter-widgets/base",
          "model_name": "LayoutModel",
          "model_module_version": "1.2.0",
          "state": {
            "_model_module": "@jupyter-widgets/base",
            "_model_module_version": "1.2.0",
            "_model_name": "LayoutModel",
            "_view_count": null,
            "_view_module": "@jupyter-widgets/base",
            "_view_module_version": "1.2.0",
            "_view_name": "LayoutView",
            "align_content": null,
            "align_items": null,
            "align_self": null,
            "border": null,
            "bottom": null,
            "display": null,
            "flex": null,
            "flex_flow": null,
            "grid_area": null,
            "grid_auto_columns": null,
            "grid_auto_flow": null,
            "grid_auto_rows": null,
            "grid_column": null,
            "grid_gap": null,
            "grid_row": null,
            "grid_template_areas": null,
            "grid_template_columns": null,
            "grid_template_rows": null,
            "height": null,
            "justify_content": null,
            "justify_items": null,
            "left": null,
            "margin": null,
            "max_height": null,
            "max_width": null,
            "min_height": null,
            "min_width": null,
            "object_fit": null,
            "object_position": null,
            "order": null,
            "overflow": null,
            "overflow_x": null,
            "overflow_y": null,
            "padding": null,
            "right": null,
            "top": null,
            "visibility": null,
            "width": null
          }
        },
        "a7c616fa176e4bd49662a64fa3f40711": {
          "model_module": "@jupyter-widgets/controls",
          "model_name": "SliderStyleModel",
          "model_module_version": "1.5.0",
          "state": {
            "_model_module": "@jupyter-widgets/controls",
            "_model_module_version": "1.5.0",
            "_model_name": "SliderStyleModel",
            "_view_count": null,
            "_view_module": "@jupyter-widgets/base",
            "_view_module_version": "1.2.0",
            "_view_name": "StyleView",
            "description_width": "",
            "handle_color": null
          }
        },
        "f558bac791ec494ca65a388abc9c9b4e": {
          "model_module": "@jupyter-widgets/base",
          "model_name": "LayoutModel",
          "model_module_version": "1.2.0",
          "state": {
            "_model_module": "@jupyter-widgets/base",
            "_model_module_version": "1.2.0",
            "_model_name": "LayoutModel",
            "_view_count": null,
            "_view_module": "@jupyter-widgets/base",
            "_view_module_version": "1.2.0",
            "_view_name": "LayoutView",
            "align_content": null,
            "align_items": null,
            "align_self": null,
            "border": null,
            "bottom": null,
            "display": null,
            "flex": null,
            "flex_flow": null,
            "grid_area": null,
            "grid_auto_columns": null,
            "grid_auto_flow": null,
            "grid_auto_rows": null,
            "grid_column": null,
            "grid_gap": null,
            "grid_row": null,
            "grid_template_areas": null,
            "grid_template_columns": null,
            "grid_template_rows": null,
            "height": null,
            "justify_content": null,
            "justify_items": null,
            "left": null,
            "margin": null,
            "max_height": null,
            "max_width": null,
            "min_height": null,
            "min_width": null,
            "object_fit": null,
            "object_position": null,
            "order": null,
            "overflow": null,
            "overflow_x": null,
            "overflow_y": null,
            "padding": null,
            "right": null,
            "top": null,
            "visibility": null,
            "width": null
          }
        },
        "981997e59a4c407b885f9f1fd27114f8": {
          "model_module": "@jupyter-widgets/controls",
          "model_name": "SliderStyleModel",
          "model_module_version": "1.5.0",
          "state": {
            "_model_module": "@jupyter-widgets/controls",
            "_model_module_version": "1.5.0",
            "_model_name": "SliderStyleModel",
            "_view_count": null,
            "_view_module": "@jupyter-widgets/base",
            "_view_module_version": "1.2.0",
            "_view_name": "StyleView",
            "description_width": "",
            "handle_color": null
          }
        },
        "c8f4f8bc81cb4d93b1c2f24ccf81adb3": {
          "model_module": "@jupyter-widgets/base",
          "model_name": "LayoutModel",
          "model_module_version": "1.2.0",
          "state": {
            "_model_module": "@jupyter-widgets/base",
            "_model_module_version": "1.2.0",
            "_model_name": "LayoutModel",
            "_view_count": null,
            "_view_module": "@jupyter-widgets/base",
            "_view_module_version": "1.2.0",
            "_view_name": "LayoutView",
            "align_content": null,
            "align_items": null,
            "align_self": null,
            "border": null,
            "bottom": null,
            "display": null,
            "flex": null,
            "flex_flow": null,
            "grid_area": null,
            "grid_auto_columns": null,
            "grid_auto_flow": null,
            "grid_auto_rows": null,
            "grid_column": null,
            "grid_gap": null,
            "grid_row": null,
            "grid_template_areas": null,
            "grid_template_columns": null,
            "grid_template_rows": null,
            "height": null,
            "justify_content": null,
            "justify_items": null,
            "left": null,
            "margin": null,
            "max_height": null,
            "max_width": null,
            "min_height": null,
            "min_width": null,
            "object_fit": null,
            "object_position": null,
            "order": null,
            "overflow": null,
            "overflow_x": null,
            "overflow_y": null,
            "padding": null,
            "right": null,
            "top": null,
            "visibility": null,
            "width": null
          }
        },
        "c601c1a9aa8943ac819148cfdb77d6a7": {
          "model_module": "@jupyter-widgets/controls",
          "model_name": "SliderStyleModel",
          "model_module_version": "1.5.0",
          "state": {
            "_model_module": "@jupyter-widgets/controls",
            "_model_module_version": "1.5.0",
            "_model_name": "SliderStyleModel",
            "_view_count": null,
            "_view_module": "@jupyter-widgets/base",
            "_view_module_version": "1.2.0",
            "_view_name": "StyleView",
            "description_width": "",
            "handle_color": null
          }
        },
        "646df7fce47244ee9078645568719e7b": {
          "model_module": "@jupyter-widgets/base",
          "model_name": "LayoutModel",
          "model_module_version": "1.2.0",
          "state": {
            "_model_module": "@jupyter-widgets/base",
            "_model_module_version": "1.2.0",
            "_model_name": "LayoutModel",
            "_view_count": null,
            "_view_module": "@jupyter-widgets/base",
            "_view_module_version": "1.2.0",
            "_view_name": "LayoutView",
            "align_content": null,
            "align_items": null,
            "align_self": null,
            "border": null,
            "bottom": null,
            "display": null,
            "flex": null,
            "flex_flow": null,
            "grid_area": null,
            "grid_auto_columns": null,
            "grid_auto_flow": null,
            "grid_auto_rows": null,
            "grid_column": null,
            "grid_gap": null,
            "grid_row": null,
            "grid_template_areas": null,
            "grid_template_columns": null,
            "grid_template_rows": null,
            "height": null,
            "justify_content": null,
            "justify_items": null,
            "left": null,
            "margin": null,
            "max_height": null,
            "max_width": null,
            "min_height": null,
            "min_width": null,
            "object_fit": null,
            "object_position": null,
            "order": null,
            "overflow": null,
            "overflow_x": null,
            "overflow_y": null,
            "padding": null,
            "right": null,
            "top": null,
            "visibility": null,
            "width": null
          }
        },
        "5fafd9fbcc9d496ea5a89d2df772afd1": {
          "model_module": "@jupyter-widgets/controls",
          "model_name": "SliderStyleModel",
          "model_module_version": "1.5.0",
          "state": {
            "_model_module": "@jupyter-widgets/controls",
            "_model_module_version": "1.5.0",
            "_model_name": "SliderStyleModel",
            "_view_count": null,
            "_view_module": "@jupyter-widgets/base",
            "_view_module_version": "1.2.0",
            "_view_name": "StyleView",
            "description_width": "",
            "handle_color": null
          }
        },
        "6c7bd8b353924092b3866abfdf4780bb": {
          "model_module": "@jupyter-widgets/base",
          "model_name": "LayoutModel",
          "model_module_version": "1.2.0",
          "state": {
            "_model_module": "@jupyter-widgets/base",
            "_model_module_version": "1.2.0",
            "_model_name": "LayoutModel",
            "_view_count": null,
            "_view_module": "@jupyter-widgets/base",
            "_view_module_version": "1.2.0",
            "_view_name": "LayoutView",
            "align_content": null,
            "align_items": null,
            "align_self": null,
            "border": null,
            "bottom": null,
            "display": null,
            "flex": null,
            "flex_flow": null,
            "grid_area": null,
            "grid_auto_columns": null,
            "grid_auto_flow": null,
            "grid_auto_rows": null,
            "grid_column": null,
            "grid_gap": null,
            "grid_row": null,
            "grid_template_areas": null,
            "grid_template_columns": null,
            "grid_template_rows": null,
            "height": null,
            "justify_content": null,
            "justify_items": null,
            "left": null,
            "margin": null,
            "max_height": null,
            "max_width": null,
            "min_height": null,
            "min_width": null,
            "object_fit": null,
            "object_position": null,
            "order": null,
            "overflow": null,
            "overflow_x": null,
            "overflow_y": null,
            "padding": null,
            "right": null,
            "top": null,
            "visibility": null,
            "width": null
          }
        },
        "7cae5f0ed224437bbdc193e93de10285": {
          "model_module": "@jupyter-widgets/controls",
          "model_name": "SliderStyleModel",
          "model_module_version": "1.5.0",
          "state": {
            "_model_module": "@jupyter-widgets/controls",
            "_model_module_version": "1.5.0",
            "_model_name": "SliderStyleModel",
            "_view_count": null,
            "_view_module": "@jupyter-widgets/base",
            "_view_module_version": "1.2.0",
            "_view_name": "StyleView",
            "description_width": "",
            "handle_color": null
          }
        },
        "59a3e539ffbb4632b09272e987237ea0": {
          "model_module": "@jupyter-widgets/base",
          "model_name": "LayoutModel",
          "model_module_version": "1.2.0",
          "state": {
            "_model_module": "@jupyter-widgets/base",
            "_model_module_version": "1.2.0",
            "_model_name": "LayoutModel",
            "_view_count": null,
            "_view_module": "@jupyter-widgets/base",
            "_view_module_version": "1.2.0",
            "_view_name": "LayoutView",
            "align_content": null,
            "align_items": null,
            "align_self": null,
            "border": null,
            "bottom": null,
            "display": null,
            "flex": null,
            "flex_flow": null,
            "grid_area": null,
            "grid_auto_columns": null,
            "grid_auto_flow": null,
            "grid_auto_rows": null,
            "grid_column": null,
            "grid_gap": null,
            "grid_row": null,
            "grid_template_areas": null,
            "grid_template_columns": null,
            "grid_template_rows": null,
            "height": null,
            "justify_content": null,
            "justify_items": null,
            "left": null,
            "margin": null,
            "max_height": null,
            "max_width": null,
            "min_height": null,
            "min_width": null,
            "object_fit": null,
            "object_position": null,
            "order": null,
            "overflow": null,
            "overflow_x": null,
            "overflow_y": null,
            "padding": null,
            "right": null,
            "top": null,
            "visibility": null,
            "width": null
          }
        }
      }
    }
  },
  "cells": [
    {
      "cell_type": "markdown",
      "metadata": {
        "id": "view-in-github",
        "colab_type": "text"
      },
      "source": [
        "<a href=\"https://colab.research.google.com/github/GamaLab42/Material_EQE_441/blob/main/M%C3%A9todo_anal%C3%ADtico_Equa%C3%A7%C3%A3o_de_Kremser.ipynb\" target=\"_parent\"><img src=\"https://colab.research.google.com/assets/colab-badge.svg\" alt=\"Open In Colab\"/></a>"
      ]
    },
    {
      "cell_type": "markdown",
      "source": [
        "## Bibliotecas"
      ],
      "metadata": {
        "id": "P_RysC86RN2R"
      }
    },
    {
      "cell_type": "code",
      "execution_count": 13,
      "metadata": {
        "id": "9j1-X0UOyMfn"
      },
      "outputs": [],
      "source": [
        "# Bibliotecas usadas nas equações\n",
        "import numpy as np  # Permite o uso de uma ampla variedades de operações matemáticas\n",
        "\n",
        "# Biliotecas usadas para plotar as figuras\n",
        "import matplotlib.pyplot as plt                           # Permite a geração de figuras de forma similar ao MATLAB\n",
        "import matplotlib.ticker as mticker                       # Essa biblioteca auxilia na formatação das figuras\n",
        "\n",
        "from ipywidgets import interact, interactive              # Função utilizada para permitir que a figura seja interativa\n",
        "import ipywidgets as widgets\n",
        "from ipywidgets import interactive, HBox, VBox\n",
        "import numpy as np\n",
        "import matplotlib.pyplot as plt\n",
        "from IPython.display import display, Latex\n",
        "\n",
        "\n"
      ]
    },
    {
      "cell_type": "markdown",
      "source": [
        "## Parâmetros"
      ],
      "metadata": {
        "id": "KBJdVtsKRQwB"
      }
    },
    {
      "cell_type": "code",
      "source": [
        "## Parâmetros iniciais\n",
        "\n",
        "# @title Parâmetros iniciais do sistema: { display-mode: \"form\", run: \"auto\" }\n",
        "\n",
        "# @markdown $x_i^{feed}$ (fração molar)\n",
        "x_feed    = 0.1               # @param {type:\"number\"}\n",
        "\n",
        "# @markdown $x_i^{ref}$ (fração molar)\n",
        "x_ref     = 0.001             # @param {type:\"number\"}\n",
        "\n",
        "# @markdown $m$ [-]\n",
        "m         = 10                # @param {type:\"number\"}\n",
        "\n",
        "# @markdown $F$ ($mol/h$)\n",
        "F         = 10                # @param {type:\"number\"}"
      ],
      "metadata": {
        "id": "QmktugK1yTwv"
      },
      "execution_count": 14,
      "outputs": []
    },
    {
      "cell_type": "markdown",
      "source": [
        "## Equação de Kremser"
      ],
      "metadata": {
        "id": "be44l9E0RTeC"
      }
    },
    {
      "cell_type": "code",
      "source": [
        "# @title Função para geração da figura: { display-mode: \"form\", run: \"auto\" }\n",
        "\n",
        "def plot_fig(t,y,max_S):\n",
        "  plt.plot(figsize=(13, 8))\n",
        "\n",
        "  plt.plot(t, y)\n",
        "  plt.ylim([0, 5])\n",
        "  plt.xlim([0, max_S])\n",
        "  plt.ylabel('n (nº de estágios)')\n",
        "  plt.xlabel('S ($mol/h$)')\n",
        "  plt.xticks(range(0, max_S, 10))\n",
        "  plt.tight_layout() # Evita a sobreposições das figuras\n",
        "  return plt.show()"
      ],
      "metadata": {
        "id": "TAPvEkuD4D52"
      },
      "execution_count": 15,
      "outputs": []
    },
    {
      "cell_type": "markdown",
      "source": [
        "Cálculo do estágio:\n",
        "\n",
        "$n = \\dfrac{\\ln\\left(\\dfrac{x_i^{feed}}{x_{i,n}}(E-1)+1\\right)}{\\ln E}-1$\n",
        "\n",
        "em que o fator de enriqueciomento é definido como:\n",
        "\n",
        "$E = \\dfrac{m}{{F}/{S}}$"
      ],
      "metadata": {
        "id": "_mvLqXLfRkYB"
      }
    },
    {
      "cell_type": "code",
      "source": [
        "def solve_Kremser(x_feed = x_feed, x_ref = x_ref, m = m, F = F, max_S = 60):\n",
        "\n",
        "    S = np.linspace(1E-8, max_S, int(10*max_S))\n",
        "\n",
        "    E = m*S/F\n",
        "\n",
        "    # Pode ser que um dos valores de \"n\" seja um NaN (not a number)\n",
        "    #  Isso ocorre pela divisão/logarítimos de zero\n",
        "    #  A nível didático iremos ignorar esse erro. A função abaixo permite que\n",
        "    #   o python não nos avise desse erro conhecido em cada compilação.\n",
        "    with np.errstate(invalid='ignore'):\n",
        "      n = np.log(x_feed/x_ref*(E-1)+1)/np.log(E) - 1\n",
        "\n",
        "    # Retirar os pontos NaN na \"força bruta\" para o plot\n",
        "    if np.isnan(n).any():\n",
        "      max_val = np.nanmax(n)  # Determina o maior valor de n dentro do array\n",
        "      n = np.where(np.isnan(n), max_val, n)  # Substitui NaN pelo valor encontrado\n",
        "\n",
        "    plot_fig(S,n,max_S)\n",
        "\n",
        "    return S, n"
      ],
      "metadata": {
        "id": "OHY3KxoX0ziG"
      },
      "execution_count": 16,
      "outputs": []
    },
    {
      "cell_type": "code",
      "source": [
        "# @title Criando uma figura interativa: { display-mode: \"form\", run: \"auto\" }\n",
        "\n",
        "# O código abaixo serve para personalizar a figura\n",
        "x_feed_slider = widgets.FloatSlider(value=0.01, min=0.001, max=0.6, step=0.01, description='x_feed', readout_format='.2e')\n",
        "x_ref_slider = widgets.FloatSlider(value=0.001, min=0.0001, max=0.01, step=0.001, description='x_ref', readout_format='.2e')\n",
        "m_slider = widgets.IntSlider(value=5, min=2, max=20, step=1, description='m')\n",
        "F_slider = widgets.IntSlider(value=5, min=2, max=20, step=1, description='F')\n",
        "max_S_slider = widgets.IntSlider(value=60, min=10, max=180, step=10, description='max_S')\n",
        "\n",
        "# Criando o widget interativo\n",
        "w = interactive(solve_Kremser,\n",
        "                x_feed=x_feed_slider,\n",
        "                x_ref=x_ref_slider,\n",
        "                m=m_slider,\n",
        "                F=F_slider,\n",
        "                max_S=max_S_slider)\n",
        "\n",
        "display(w)\n"
      ],
      "metadata": {
        "colab": {
          "base_uri": "https://localhost:8080/",
          "height": 647,
          "referenced_widgets": [
            "01b556859cb74d22bd01591e2035fa77",
            "9f64281815ed43a994950fcf44c1d84c",
            "cc76e1743b364cf2a759ab06ba2a8f90",
            "22363d546414400f83c210a66a265242",
            "c48e44c48ff64c36bcf5af5548bb6ff5",
            "5431b947b98b4686adb2d0c8e60c7904",
            "a91be4f2125f48afb8f8f53bb65c9602",
            "7a28f7e6f95141c3b0b5e35563631dd7",
            "0722b8f0a1bd4b8fb729b891914d08f3",
            "a7c616fa176e4bd49662a64fa3f40711",
            "f558bac791ec494ca65a388abc9c9b4e",
            "981997e59a4c407b885f9f1fd27114f8",
            "c8f4f8bc81cb4d93b1c2f24ccf81adb3",
            "c601c1a9aa8943ac819148cfdb77d6a7",
            "646df7fce47244ee9078645568719e7b",
            "5fafd9fbcc9d496ea5a89d2df772afd1",
            "6c7bd8b353924092b3866abfdf4780bb",
            "7cae5f0ed224437bbdc193e93de10285",
            "59a3e539ffbb4632b09272e987237ea0"
          ]
        },
        "id": "wVbU8PGm4xaP",
        "outputId": "5fc829cb-9a61-4d52-919a-9a96744b7eec"
      },
      "execution_count": 17,
      "outputs": [
        {
          "output_type": "display_data",
          "data": {
            "text/plain": [
              "interactive(children=(FloatSlider(value=0.01, description='x_feed', max=0.6, min=0.001, readout_format='.2e', …"
            ],
            "application/vnd.jupyter.widget-view+json": {
              "version_major": 2,
              "version_minor": 0,
              "model_id": "01b556859cb74d22bd01591e2035fa77"
            }
          },
          "metadata": {}
        }
      ]
    },
    {
      "cell_type": "code",
      "source": [
        "# @title Figura estática: { display-mode: \"form\", run: \"auto\" }\n",
        "\n",
        "S, n = solve_Kremser(x_feed = x_feed, x_ref = x_ref, m = m, F = F, max_S = 60)\n"
      ],
      "metadata": {
        "colab": {
          "base_uri": "https://localhost:8080/",
          "height": 487
        },
        "id": "RxSEI3HQfbIy",
        "outputId": "fa14d544-8fa7-4f9d-d308-bfc79b57c776"
      },
      "execution_count": 18,
      "outputs": [
        {
          "output_type": "display_data",
          "data": {
            "text/plain": [
              "<Figure size 640x480 with 1 Axes>"
            ],
            "image/png": "[encoded data removed]"
          },
          "metadata": {}
        }
      ]
    }
  ]
}